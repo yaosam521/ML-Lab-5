{
 "cells": [
  {
   "cell_type": "markdown",
   "id": "561be994-6066-411d-82d5-8e41eb666298",
   "metadata": {},
   "source": [
    "<h1> Wide and Deep Networks</h1>\n",
    "Authors: Sam Yao, Rebecca Kuhlman, Michael Amberg\n",
    "\n",
    "\n",
    "### Wide and Deep Putin\n",
    "![Wide and Deep Putin](https://i.kym-cdn.com/entries/icons/original/000/034/246/Untitled.png)\n",
    "\n",
    "## Task 1: Find a Dataset (Similar to Lab 1)\n",
    "- Select a dataset similarly to lab one. That is, the dataset must be table data. \n",
    "- it is helpful to have a large dataset for building a wide and deep network. \n",
    "- It is also helpful to have many different categorical features to create the embeddings and cross-product embeddings. \n",
    "- It is fine to perform binary classification, multi-class classification, or regression.\n",
    "\n",
    "\n",
    "Ideas for Datasets:\n",
    "- https://www.kaggle.com/datasets/jessicali9530/animal-crossing-new-horizons-nookplaza-dataset\n",
    "- https://www.kaggle.com/datasets/fivethirtyeight/fivethirtyeight-comic-characters-dataset\n",
    "- https://www.kaggle.com/datasets/dgomonov/new-york-city-airbnb-open-data\n",
    "- https://www.kaggle.com/datasets/fedesoriano/stroke-prediction-dataset\n"
   ]
  },
  {
   "cell_type": "markdown",
   "id": "22c3db98",
   "metadata": {},
   "source": [
    "<h2>Data Preparation</h2>"
   ]
  },
  {
   "cell_type": "markdown",
   "id": "5afbd9fd-5a24-49ec-80b4-edaf1672994e",
   "metadata": {},
   "source": [
    "\n",
    "<h3>Defining and Cleaning Variables</h3>\n",
    "[1 points] Define and prepare your class variables. Use proper variable representations (int, float, one-hot, etc.). Use pre-processing methods (as needed) for dimensionality reduction, scaling, etc. Remove variables that are not needed/useful for the analysis. Describe the final dataset that is used for classification/regression (include a description of any newly formed variables you created). \n",
    "\n"
   ]
  },
  {
   "cell_type": "code",
   "execution_count": 16,
   "id": "55cb37e0",
   "metadata": {
    "collapsed": false,
    "jupyter": {
     "outputs_hidden": false
    }
   },
   "outputs": [
    {
     "name": "stdout",
     "output_type": "stream",
     "text": [
      "<class 'pandas.core.frame.DataFrame'>\n",
      "RangeIndex: 1473 entries, 0 to 1472\n",
      "Data columns (total 10 columns):\n",
      " #   Column                     Non-Null Count  Dtype\n",
      "---  ------                     --------------  -----\n",
      " 0   Wife's age                 1473 non-null   int64\n",
      " 1   Wife's education           1473 non-null   int64\n",
      " 2   Husband's education        1473 non-null   int64\n",
      " 3   Number of children         1473 non-null   int64\n",
      " 4   Religion                   1473 non-null   int64\n",
      " 5   Wife's working?            1473 non-null   int64\n",
      " 6   Husband's occupation       1473 non-null   int64\n",
      " 7   Standard-of-living index   1473 non-null   int64\n",
      " 8   Media exposure             1473 non-null   int64\n",
      " 9   Contraceptive method used  1473 non-null   int64\n",
      "dtypes: int64(10)\n",
      "memory usage: 115.2 KB\n",
      "None\n"
     ]
    }
   ],
   "source": [
    "import pandas as pd\n",
    "import numpy as np\n",
    "import matplotlib\n",
    "import seaborn as sns\n",
    "import matplotlib.pyplot as plt\n",
    "import warnings\n",
    "warnings.simplefilter('ignore', DeprecationWarning)\n",
    "\n",
    "df = pd.read_csv(\"https://archive.ics.uci.edu/ml/machine-learning-databases/cmc/cmc.data\",\n",
    "                 names=[\"Wife's age\",\"Wife's education\",\"Husband's education\",\n",
    "                        \"Number of children\",\"Religion\",\"Wife's working?\"\n",
    "                        ,\"Husband's occupation\",\"Standard-of-living index\",\"Media exposure\", \"Contraceptive method used\"])\n",
    "print(df.info())"
   ]
  },
  {
   "cell_type": "code",
   "execution_count": 2,
   "id": "44b8a15e",
   "metadata": {
    "collapsed": false,
    "jupyter": {
     "outputs_hidden": false
    }
   },
   "outputs": [
    {
     "name": "stdout",
     "output_type": "stream",
     "text": [
      "        Wife's age  Wife's education  Husband's education  Number of children  \\\n",
      "count  1473.000000       1473.000000          1473.000000         1473.000000   \n",
      "mean     32.538357          2.958588             3.429735            3.261371   \n",
      "std       8.227245          1.014994             0.816349            2.358549   \n",
      "min      16.000000          1.000000             1.000000            0.000000   \n",
      "25%      26.000000          2.000000             3.000000            1.000000   \n",
      "50%      32.000000          3.000000             4.000000            3.000000   \n",
      "75%      39.000000          4.000000             4.000000            4.000000   \n",
      "max      49.000000          4.000000             4.000000           16.000000   \n",
      "\n",
      "          Religion  Wife's working?  Husband's occupation  \\\n",
      "count  1473.000000      1473.000000           1473.000000   \n",
      "mean      0.850645         0.749491              2.137814   \n",
      "std       0.356559         0.433453              0.864857   \n",
      "min       0.000000         0.000000              1.000000   \n",
      "25%       1.000000         0.000000              1.000000   \n",
      "50%       1.000000         1.000000              2.000000   \n",
      "75%       1.000000         1.000000              3.000000   \n",
      "max       1.000000         1.000000              4.000000   \n",
      "\n",
      "       Standard-of-living index  Media exposure  Contraceptive method used  \n",
      "count               1473.000000     1473.000000                1473.000000  \n",
      "mean                   3.133741        0.073999                   1.919891  \n",
      "std                    0.976161        0.261858                   0.876376  \n",
      "min                    1.000000        0.000000                   1.000000  \n",
      "25%                    3.000000        0.000000                   1.000000  \n",
      "50%                    3.000000        0.000000                   2.000000  \n",
      "75%                    4.000000        0.000000                   3.000000  \n",
      "max                    4.000000        1.000000                   3.000000  \n"
     ]
    }
   ],
   "source": [
    "print(df.describe())"
   ]
  },
  {
   "cell_type": "markdown",
   "id": "1bc95b24",
   "metadata": {},
   "source": [
    "Attribute Information:\n",
    "\n",
    "   1. Wife's age                     (numerical) - INT\n",
    "   2. Wife's education               (categorical)      1=low, 2, 3, 4=high\n",
    "   3. Husband's education            (categorical)      1=low, 2, 3, 4=high\n",
    "   4. Number of children ever born   (numerical) - INT\n",
    "   5. Wife's religion                (binary)           0=Non-Islam, 1=Islam\n",
    "   6. Wife's now working?            (binary)           0=Yes, 1=No\n",
    "   7. Husband's occupation           (categorical)      1, 2, 3, 4\n",
    "      -What the categories were mapped to is unknown\n",
    "   8. Standard-of-living index       (categorical)      1=low, 2, 3, 4=high\n",
    "   9. Media exposure                 (binary)           0=Good, 1=Not good\n",
    "   10. Contraceptive method used     (class attribute)  1=No-use\n",
    "                                                        2=Long-term\n",
    "                                                        3=Short-term"
   ]
  },
  {
   "cell_type": "code",
   "execution_count": 17,
   "id": "2780c520-e167-4e8f-baf7-519902ec0bd7",
   "metadata": {},
   "outputs": [],
   "source": [
    "#removing Husband's Occupation\n",
    "\n",
    "df = df.drop(labels=\"Husband's occupation\", axis = 1)"
   ]
  },
  {
   "cell_type": "code",
   "execution_count": 21,
   "id": "21ae4209-096d-4eea-a871-84d58e850fee",
   "metadata": {},
   "outputs": [
    {
     "ename": "KeyError",
     "evalue": "'[\"Husband\\'s occupation\"] not in index'",
     "output_type": "error",
     "traceback": [
      "\u001b[0;31m---------------------------------------------------------------------------\u001b[0m",
      "\u001b[0;31mKeyError\u001b[0m                                  Traceback (most recent call last)",
      "Input \u001b[0;32mIn [21]\u001b[0m, in \u001b[0;36m<cell line: 4>\u001b[0;34m()\u001b[0m\n\u001b[1;32m      1\u001b[0m \u001b[38;5;66;03m#print heatmap\u001b[39;00m\n\u001b[1;32m      2\u001b[0m \u001b[38;5;28;01mimport\u001b[39;00m \u001b[38;5;21;01mseaborn\u001b[39;00m \u001b[38;5;28;01mas\u001b[39;00m \u001b[38;5;21;01msns\u001b[39;00m\n\u001b[0;32m----> 4\u001b[0m df_corr \u001b[38;5;241m=\u001b[39m \u001b[43mdf\u001b[49m\u001b[43m[\u001b[49m\u001b[43m[\u001b[49m\u001b[38;5;124;43m\"\u001b[39;49m\u001b[38;5;124;43mWife\u001b[39;49m\u001b[38;5;124;43m'\u001b[39;49m\u001b[38;5;124;43ms education\u001b[39;49m\u001b[38;5;124;43m\"\u001b[39;49m\u001b[43m,\u001b[49m\n\u001b[1;32m      5\u001b[0m \u001b[43m              \u001b[49m\u001b[38;5;124;43m\"\u001b[39;49m\u001b[38;5;124;43mHusband\u001b[39;49m\u001b[38;5;124;43m'\u001b[39;49m\u001b[38;5;124;43ms education\u001b[39;49m\u001b[38;5;124;43m\"\u001b[39;49m\u001b[43m,\u001b[49m\n\u001b[1;32m      6\u001b[0m \u001b[43m              \u001b[49m\u001b[38;5;124;43m\"\u001b[39;49m\u001b[38;5;124;43mReligion\u001b[39;49m\u001b[38;5;124;43m\"\u001b[39;49m\u001b[43m,\u001b[49m\n\u001b[1;32m      7\u001b[0m \u001b[43m              \u001b[49m\u001b[38;5;124;43m\"\u001b[39;49m\u001b[38;5;124;43mWife\u001b[39;49m\u001b[38;5;124;43m'\u001b[39;49m\u001b[38;5;124;43ms working?\u001b[39;49m\u001b[38;5;124;43m\"\u001b[39;49m\u001b[43m,\u001b[49m\n\u001b[1;32m      8\u001b[0m \u001b[43m              \u001b[49m\u001b[38;5;124;43m\"\u001b[39;49m\u001b[38;5;124;43mHusband\u001b[39;49m\u001b[38;5;124;43m'\u001b[39;49m\u001b[38;5;124;43ms occupation\u001b[39;49m\u001b[38;5;124;43m\"\u001b[39;49m\u001b[43m,\u001b[49m\n\u001b[1;32m      9\u001b[0m \u001b[43m              \u001b[49m\u001b[38;5;124;43m\"\u001b[39;49m\u001b[38;5;124;43mStandard-of-living index\u001b[39;49m\u001b[38;5;124;43m\"\u001b[39;49m\u001b[43m,\u001b[49m\n\u001b[1;32m     10\u001b[0m \u001b[43m              \u001b[49m\u001b[38;5;124;43m\"\u001b[39;49m\u001b[38;5;124;43mMedia exposure\u001b[39;49m\u001b[38;5;124;43m\"\u001b[39;49m\u001b[43m,\u001b[49m\u001b[43m \u001b[49m\n\u001b[1;32m     11\u001b[0m \u001b[43m              \u001b[49m\u001b[38;5;124;43m\"\u001b[39;49m\u001b[38;5;124;43mContraceptive method used\u001b[39;49m\u001b[38;5;124;43m\"\u001b[39;49m\u001b[43m]\u001b[49m\u001b[43m]\u001b[49m\n\u001b[1;32m     12\u001b[0m sns\u001b[38;5;241m.\u001b[39mheatmap(df_corr\u001b[38;5;241m.\u001b[39mcorr(), annot \u001b[38;5;241m=\u001b[39m \u001b[38;5;28;01mTrue\u001b[39;00m)\n",
      "File \u001b[0;32m~/opt/anaconda3/lib/python3.9/site-packages/pandas/core/frame.py:3511\u001b[0m, in \u001b[0;36mDataFrame.__getitem__\u001b[0;34m(self, key)\u001b[0m\n\u001b[1;32m   3509\u001b[0m     \u001b[38;5;28;01mif\u001b[39;00m is_iterator(key):\n\u001b[1;32m   3510\u001b[0m         key \u001b[38;5;241m=\u001b[39m \u001b[38;5;28mlist\u001b[39m(key)\n\u001b[0;32m-> 3511\u001b[0m     indexer \u001b[38;5;241m=\u001b[39m \u001b[38;5;28;43mself\u001b[39;49m\u001b[38;5;241;43m.\u001b[39;49m\u001b[43mcolumns\u001b[49m\u001b[38;5;241;43m.\u001b[39;49m\u001b[43m_get_indexer_strict\u001b[49m\u001b[43m(\u001b[49m\u001b[43mkey\u001b[49m\u001b[43m,\u001b[49m\u001b[43m \u001b[49m\u001b[38;5;124;43m\"\u001b[39;49m\u001b[38;5;124;43mcolumns\u001b[39;49m\u001b[38;5;124;43m\"\u001b[39;49m\u001b[43m)\u001b[49m[\u001b[38;5;241m1\u001b[39m]\n\u001b[1;32m   3513\u001b[0m \u001b[38;5;66;03m# take() does not accept boolean indexers\u001b[39;00m\n\u001b[1;32m   3514\u001b[0m \u001b[38;5;28;01mif\u001b[39;00m \u001b[38;5;28mgetattr\u001b[39m(indexer, \u001b[38;5;124m\"\u001b[39m\u001b[38;5;124mdtype\u001b[39m\u001b[38;5;124m\"\u001b[39m, \u001b[38;5;28;01mNone\u001b[39;00m) \u001b[38;5;241m==\u001b[39m \u001b[38;5;28mbool\u001b[39m:\n",
      "File \u001b[0;32m~/opt/anaconda3/lib/python3.9/site-packages/pandas/core/indexes/base.py:5796\u001b[0m, in \u001b[0;36mIndex._get_indexer_strict\u001b[0;34m(self, key, axis_name)\u001b[0m\n\u001b[1;32m   5793\u001b[0m \u001b[38;5;28;01melse\u001b[39;00m:\n\u001b[1;32m   5794\u001b[0m     keyarr, indexer, new_indexer \u001b[38;5;241m=\u001b[39m \u001b[38;5;28mself\u001b[39m\u001b[38;5;241m.\u001b[39m_reindex_non_unique(keyarr)\n\u001b[0;32m-> 5796\u001b[0m \u001b[38;5;28;43mself\u001b[39;49m\u001b[38;5;241;43m.\u001b[39;49m\u001b[43m_raise_if_missing\u001b[49m\u001b[43m(\u001b[49m\u001b[43mkeyarr\u001b[49m\u001b[43m,\u001b[49m\u001b[43m \u001b[49m\u001b[43mindexer\u001b[49m\u001b[43m,\u001b[49m\u001b[43m \u001b[49m\u001b[43maxis_name\u001b[49m\u001b[43m)\u001b[49m\n\u001b[1;32m   5798\u001b[0m keyarr \u001b[38;5;241m=\u001b[39m \u001b[38;5;28mself\u001b[39m\u001b[38;5;241m.\u001b[39mtake(indexer)\n\u001b[1;32m   5799\u001b[0m \u001b[38;5;28;01mif\u001b[39;00m \u001b[38;5;28misinstance\u001b[39m(key, Index):\n\u001b[1;32m   5800\u001b[0m     \u001b[38;5;66;03m# GH 42790 - Preserve name from an Index\u001b[39;00m\n",
      "File \u001b[0;32m~/opt/anaconda3/lib/python3.9/site-packages/pandas/core/indexes/base.py:5859\u001b[0m, in \u001b[0;36mIndex._raise_if_missing\u001b[0;34m(self, key, indexer, axis_name)\u001b[0m\n\u001b[1;32m   5856\u001b[0m     \u001b[38;5;28;01mraise\u001b[39;00m \u001b[38;5;167;01mKeyError\u001b[39;00m(\u001b[38;5;124mf\u001b[39m\u001b[38;5;124m\"\u001b[39m\u001b[38;5;124mNone of [\u001b[39m\u001b[38;5;132;01m{\u001b[39;00mkey\u001b[38;5;132;01m}\u001b[39;00m\u001b[38;5;124m] are in the [\u001b[39m\u001b[38;5;132;01m{\u001b[39;00maxis_name\u001b[38;5;132;01m}\u001b[39;00m\u001b[38;5;124m]\u001b[39m\u001b[38;5;124m\"\u001b[39m)\n\u001b[1;32m   5858\u001b[0m not_found \u001b[38;5;241m=\u001b[39m \u001b[38;5;28mlist\u001b[39m(ensure_index(key)[missing_mask\u001b[38;5;241m.\u001b[39mnonzero()[\u001b[38;5;241m0\u001b[39m]]\u001b[38;5;241m.\u001b[39munique())\n\u001b[0;32m-> 5859\u001b[0m \u001b[38;5;28;01mraise\u001b[39;00m \u001b[38;5;167;01mKeyError\u001b[39;00m(\u001b[38;5;124mf\u001b[39m\u001b[38;5;124m\"\u001b[39m\u001b[38;5;132;01m{\u001b[39;00mnot_found\u001b[38;5;132;01m}\u001b[39;00m\u001b[38;5;124m not in index\u001b[39m\u001b[38;5;124m\"\u001b[39m)\n",
      "\u001b[0;31mKeyError\u001b[0m: '[\"Husband\\'s occupation\"] not in index'"
     ]
    }
   ],
   "source": [
    "#print heatmap\n",
    "import seaborn as sns\n",
    "\n",
    "df_corr = df[[\"Wife's education\",\n",
    "              \"Husband's education\",\n",
    "              \"Religion\",\n",
    "              \"Wife's working?\",\n",
    "              \"Husband's occupation\",\n",
    "              \"Standard-of-living index\",\n",
    "              \"Media exposure\", \n",
    "              \"Contraceptive method used\"]]\n",
    "sns.heatmap(df_corr.corr(), annot = True)"
   ]
  },
  {
   "cell_type": "markdown",
   "id": "5fbf89cb-2ee9-403f-8307-b88b9ae61269",
   "metadata": {},
   "source": [
    "For scaling, we went with min-max scaling. The reason is because the features we want to scale, age and number of children, have a defined 0. For example, it makes no sense to have a negative age or to have borne negative children. Since MinMax scales from 0 to 1, this will be our scaler of choice."
   ]
  },
  {
   "cell_type": "code",
   "execution_count": 13,
   "id": "0a8302e7-60dc-4d99-afde-cf587027a2ef",
   "metadata": {},
   "outputs": [],
   "source": [
    "from sklearn.preprocessing import MinMaxScaler\n",
    "mms = MinMaxScaler()"
   ]
  },
  {
   "cell_type": "markdown",
   "id": "97353fbd",
   "metadata": {},
   "source": [
    "<h3>Cross Product Features</h3>\n",
    "[1 points] Identify groups of features in your data that should be combined into cross-product features. Provide justification for why these features should be crossed (or why some features should not be crossed)."
   ]
  },
  {
   "cell_type": "markdown",
   "id": "2509b9eb",
   "metadata": {},
   "source": [
    "Wife working and wife education are related features that could be combined"
   ]
  },
  {
   "cell_type": "markdown",
   "id": "6461cedb",
   "metadata": {},
   "source": []
  },
  {
   "cell_type": "markdown",
   "id": "a07b15ca",
   "metadata": {},
   "source": [
    "<h3>Metrics for Algorithm Performance</h3>\n",
    "[1 points] Choose and explain what metric(s) you will use to evaluate your algorithm’s performance. You should give a detailed argument for why this (these) metric(s) are appropriate on your data. That is, why is the metric appropriate for the task (e.g., in terms of the business case for the task). Please note: rarely is accuracy the best evaluation metric to use. Think deeply about an appropriate measure of performance.\n"
   ]
  },
  {
   "cell_type": "markdown",
   "id": "9e04428e",
   "metadata": {},
   "source": [
    "The most important feature prediction is no contraceptive use vs contraceptive use. Taking contraceptive use as true, a false positive has much higher risk than a false negative. Because of this, we will choose specificity score as our metric. We want to cover all true negatives."
   ]
  },
  {
   "cell_type": "markdown",
   "id": "668a1e75",
   "metadata": {},
   "source": [
    "<h3>Dividing into Training and Testing</h3>\n",
    "[1 points] Choose the method you will use for dividing your data into training and testing (i.e., are you using Stratified 10-fold cross validation? Shuffle splits? Why?). Explain why your chosen method is appropriate or use more than one method as appropriate. Argue why your cross validation method is a realistic mirroring of how an algorithm would be used in practice."
   ]
  },
  {
   "cell_type": "markdown",
   "id": "99b08f17",
   "metadata": {},
   "source": []
  }
 ],
 "metadata": {
  "kernelspec": {
   "display_name": "Python 3 (ipykernel)",
   "language": "python",
   "name": "python3"
  },
  "language_info": {
   "codemirror_mode": {
    "name": "ipython",
    "version": 3
   },
   "file_extension": ".py",
   "mimetype": "text/x-python",
   "name": "python",
   "nbconvert_exporter": "python",
   "pygments_lexer": "ipython3",
   "version": "3.9.13"
  },
  "vscode": {
   "interpreter": {
    "hash": "b0fa6594d8f4cbf19f97940f81e996739fb7646882a419484c72d19e05852a7e"
   }
  }
 },
 "nbformat": 4,
 "nbformat_minor": 5
}
