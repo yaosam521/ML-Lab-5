{
 "cells": [
  {
   "cell_type": "markdown",
   "id": "561be994-6066-411d-82d5-8e41eb666298",
   "metadata": {},
   "source": [
    "# Wide and Deep Networks\n",
    "Authors: Sam Yao, Rebecca Kuhlman, Michael Amberg\n",
    "\n",
    "\n",
    "### Wide and Deep Putin\n",
    "![Wide and Deep Putin](https://i.kym-cdn.com/entries/icons/original/000/034/246/Untitled.png)\n",
    "\n",
    "## Task 1: Find a Dataset (Similar to Lab 1)\n",
    "- Select a dataset similarly to lab one. That is, the dataset must be table data. \n",
    "- it is helpful to have a large dataset for building a wide and deep network. \n",
    "- It is also helpful to have many different categorical features to create the embeddings and cross-product embeddings. \n",
    "- It is fine to perform binary classification, multi-class classification, or regression.\n",
    "\n",
    "\n",
    "Ideas for Datasets:\n",
    "- https://www.kaggle.com/datasets/jessicali9530/animal-crossing-new-horizons-nookplaza-dataset\n",
    "- https://www.kaggle.com/datasets/fivethirtyeight/fivethirtyeight-comic-characters-dataset\n",
    "- https://www.kaggle.com/datasets/dgomonov/new-york-city-airbnb-open-data\n",
    "- https://www.kaggle.com/datasets/fedesoriano/stroke-prediction-dataset\n"
   ]
  },
  {
   "cell_type": "code",
   "execution_count": null,
   "id": "1dfadbbf-0506-4086-95e3-ee5c07bbb4a6",
   "metadata": {},
   "outputs": [],
   "source": []
  },
  {
   "cell_type": "markdown",
   "id": "5afbd9fd-5a24-49ec-80b4-edaf1672994e",
   "metadata": {},
   "source": [
    "Preparation (4 points total)\n",
    "\n",
    "[1 points] Define and prepare your class variables. Use proper variable representations (int, float, one-hot, etc.). Use pre-processing methods (as needed) for dimensionality reduction, scaling, etc. Remove variables that are not needed/useful for the analysis. Describe the final dataset that is used for classification/regression (include a description of any newly formed variables you created). \n",
    "\n",
    "[1 points] Identify groups of features in your data that should be combined into cross-product features. Provide justification for why these features should be crossed (or why some features should not be crossed). \n",
    "\n",
    "[1 points] Choose and explain what metric(s) you will use to evaluate your algorithm’s performance. You should give a detailed argument for why this (these) metric(s) are appropriate on your data. That is, why is the metric appropriate for the task (e.g., in terms of the business case for the task). Please note: rarely is accuracy the best evaluation metric to use. Think deeply about an appropriate measure of performance.\n",
    "\n",
    "[1 points] Choose the method you will use for dividing your data into training and testing (i.e., are you using Stratified 10-fold cross validation? Shuffle splits? Why?). Explain why your chosen method is appropriate or use more than one method as appropriate. Argue why your cross validation method is a realistic mirroring of how an algorithm would be used in practice. "
   ]
  }
 ],
 "metadata": {
  "kernelspec": {
   "display_name": "Python 3 (ipykernel)",
   "language": "python",
   "name": "python3"
  },
  "language_info": {
   "codemirror_mode": {
    "name": "ipython",
    "version": 3
   },
   "file_extension": ".py",
   "mimetype": "text/x-python",
   "name": "python",
   "nbconvert_exporter": "python",
   "pygments_lexer": "ipython3",
   "version": "3.9.13"
  }
 },
 "nbformat": 4,
 "nbformat_minor": 5
}
