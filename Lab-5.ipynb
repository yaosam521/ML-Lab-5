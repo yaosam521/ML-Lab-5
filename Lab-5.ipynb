{
 "cells": [
  {
   "cell_type": "markdown",
   "id": "561be994-6066-411d-82d5-8e41eb666298",
   "metadata": {},
   "source": [
    "<h1> Wide and Deep Networks</h1>\n",
    "Authors: Sam Yao, Rebecca Kuhlman, Michael Amberg\n",
    "\n",
    "\n",
    "### Wide and Deep Putin\n",
    "![Wide and Deep Putin](https://i.kym-cdn.com/entries/icons/original/000/034/246/Untitled.png)\n",
    "\n",
    "## Task 1: Find a Dataset (Similar to Lab 1)\n",
    "- Select a dataset similarly to lab one. That is, the dataset must be table data. \n",
    "- it is helpful to have a large dataset for building a wide and deep network. \n",
    "- It is also helpful to have many different categorical features to create the embeddings and cross-product embeddings. \n",
    "- It is fine to perform binary classification, multi-class classification, or regression.\n",
    "\n",
    "\n",
    "Ideas for Datasets:\n",
    "- https://www.kaggle.com/datasets/jessicali9530/animal-crossing-new-horizons-nookplaza-dataset\n",
    "- https://www.kaggle.com/datasets/fivethirtyeight/fivethirtyeight-comic-characters-dataset\n",
    "- https://www.kaggle.com/datasets/dgomonov/new-york-city-airbnb-open-data\n",
    "- https://www.kaggle.com/datasets/fedesoriano/stroke-prediction-dataset\n"
   ]
  },
  {
   "cell_type": "markdown",
   "id": "22c3db98",
   "metadata": {},
   "source": [
    "<h2>Data Preparation</h2>"
   ]
  },
  {
   "cell_type": "markdown",
   "id": "5afbd9fd-5a24-49ec-80b4-edaf1672994e",
   "metadata": {},
   "source": [
    "\n",
    "<h3>Defining and Cleaning Variables</h3>\n",
    "[1 points] Define and prepare your class variables. Use proper variable representations (int, float, one-hot, etc.). Use pre-processing methods (as needed) for dimensionality reduction, scaling, etc. Remove variables that are not needed/useful for the analysis. Describe the final dataset that is used for classification/regression (include a description of any newly formed variables you created). \n",
    "\n"
   ]
  },
  {
   "cell_type": "code",
   "execution_count": 2,
   "id": "55cb37e0",
   "metadata": {
    "collapsed": false,
    "jupyter": {
     "outputs_hidden": false
    }
   },
   "outputs": [
    {
     "name": "stdout",
     "output_type": "stream",
     "text": [
      "<class 'pandas.core.frame.DataFrame'>\n",
      "RangeIndex: 1473 entries, 0 to 1472\n",
      "Data columns (total 10 columns):\n",
      " #   Column                     Non-Null Count  Dtype\n",
      "---  ------                     --------------  -----\n",
      " 0   Wife's age                 1473 non-null   int64\n",
      " 1   Wife's education           1473 non-null   int64\n",
      " 2   Husband's education        1473 non-null   int64\n",
      " 3   Number of children         1473 non-null   int64\n",
      " 4   Religion                   1473 non-null   int64\n",
      " 5   Wife's working?            1473 non-null   int64\n",
      " 6   Husband's occupation       1473 non-null   int64\n",
      " 7   Standard-of-living index   1473 non-null   int64\n",
      " 8   Media exposure             1473 non-null   int64\n",
      " 9   Contraceptive method used  1473 non-null   int64\n",
      "dtypes: int64(10)\n",
      "memory usage: 115.2 KB\n",
      "None\n"
     ]
    }
   ],
   "source": [
    "import pandas as pd\n",
    "import numpy as np\n",
    "import matplotlib\n",
    "import seaborn as sns\n",
    "import matplotlib.pyplot as plt\n",
    "import warnings\n",
    "warnings.simplefilter('ignore', DeprecationWarning)\n",
    "\n",
    "df = pd.read_csv(\"https://archive.ics.uci.edu/ml/machine-learning-databases/cmc/cmc.data\",\n",
    "                 names=[\"Wife's age\",\"Wife's education\",\"Husband's education\",\n",
    "                        \"Number of children\",\"Religion\",\"Wife's working?\"\n",
    "                        ,\"Husband's occupation\",\"Standard-of-living index\",\"Media exposure\", \"Contraceptive method used\"])\n",
    "print(df.info())"
   ]
  },
  {
   "cell_type": "code",
   "execution_count": 3,
   "id": "44b8a15e",
   "metadata": {
    "collapsed": false,
    "jupyter": {
     "outputs_hidden": false
    }
   },
   "outputs": [
    {
     "name": "stdout",
     "output_type": "stream",
     "text": [
      "        Wife's age  Wife's education  Husband's education  Number of children  \\\n",
      "count  1473.000000       1473.000000          1473.000000         1473.000000   \n",
      "mean     32.538357          2.958588             3.429735            3.261371   \n",
      "std       8.227245          1.014994             0.816349            2.358549   \n",
      "min      16.000000          1.000000             1.000000            0.000000   \n",
      "25%      26.000000          2.000000             3.000000            1.000000   \n",
      "50%      32.000000          3.000000             4.000000            3.000000   \n",
      "75%      39.000000          4.000000             4.000000            4.000000   \n",
      "max      49.000000          4.000000             4.000000           16.000000   \n",
      "\n",
      "          Religion  Wife's working?  Husband's occupation  \\\n",
      "count  1473.000000      1473.000000           1473.000000   \n",
      "mean      0.850645         0.749491              2.137814   \n",
      "std       0.356559         0.433453              0.864857   \n",
      "min       0.000000         0.000000              1.000000   \n",
      "25%       1.000000         0.000000              1.000000   \n",
      "50%       1.000000         1.000000              2.000000   \n",
      "75%       1.000000         1.000000              3.000000   \n",
      "max       1.000000         1.000000              4.000000   \n",
      "\n",
      "       Standard-of-living index  Media exposure  Contraceptive method used  \n",
      "count               1473.000000     1473.000000                1473.000000  \n",
      "mean                   3.133741        0.073999                   1.919891  \n",
      "std                    0.976161        0.261858                   0.876376  \n",
      "min                    1.000000        0.000000                   1.000000  \n",
      "25%                    3.000000        0.000000                   1.000000  \n",
      "50%                    3.000000        0.000000                   2.000000  \n",
      "75%                    4.000000        0.000000                   3.000000  \n",
      "max                    4.000000        1.000000                   3.000000  \n"
     ]
    }
   ],
   "source": [
    "print(df.describe())"
   ]
  },
  {
   "cell_type": "markdown",
   "id": "1bc95b24",
   "metadata": {},
   "source": [
    "Attribute Information:\n",
    "\n",
    "   1. Wife's age                     (numerical) - INT\n",
    "   2. Wife's education               (categorical)      1=low, 2, 3, 4=high\n",
    "   3. Husband's education            (categorical)      1=low, 2, 3, 4=high\n",
    "   4. Number of children ever born   (numerical) - INT\n",
    "   5. Wife's religion                (binary)           0=Non-Islam, 1=Islam\n",
    "   6. Wife's now working?            (binary)           0=Yes, 1=No\n",
    "   7. Husband's occupation           (categorical)      1, 2, 3, 4\n",
    "      -What the categories were mapped to is unknown\n",
    "   8. Standard-of-living index       (categorical)      1=low, 2, 3, 4=high\n",
    "   9. Media exposure                 (binary)           0=Good, 1=Not good\n",
    "   10. Contraceptive method used     (class attribute)  1=No-use\n",
    "                                                        2=Long-term\n",
    "                                                        3=Short-term"
   ]
  },
  {
   "cell_type": "code",
   "execution_count": 4,
   "id": "2780c520-e167-4e8f-baf7-519902ec0bd7",
   "metadata": {},
   "outputs": [],
   "source": [
    "#removing Husband's Occupation\n",
    "\n",
    "df = df.drop(labels=\"Husband's occupation\", axis = 1)"
   ]
  },
  {
   "cell_type": "code",
   "execution_count": 5,
   "id": "21ae4209-096d-4eea-a871-84d58e850fee",
   "metadata": {},
   "outputs": [
    {
     "data": {
      "text/plain": "<AxesSubplot: >"
     },
     "execution_count": 5,
     "metadata": {},
     "output_type": "execute_result"
    },
    {
     "data": {
      "text/plain": "<Figure size 640x480 with 2 Axes>",
      "image/png": "[encoded data removed]"
     },
     "metadata": {},
     "output_type": "display_data"
    }
   ],
   "source": [
    "#print heatmap\n",
    "import seaborn as sns\n",
    "\n",
    "df_corr = df[[\"Wife's education\",\n",
    "              \"Husband's education\",\n",
    "              \"Religion\",\n",
    "              \"Wife's working?\",\n",
    "              \"Standard-of-living index\",\n",
    "              \"Media exposure\", \n",
    "              \"Contraceptive method used\"]]\n",
    "sns.heatmap(df_corr.corr(method=\"kendall\"), annot = True) #Kendall works for categorical data"
   ]
  },
  {
   "cell_type": "markdown",
   "id": "91a550fd-29cb-441b-aed5-69e0f41a8031",
   "metadata": {},
   "source": [
    "From this heatmap, we can see an interesting trend. Contraceptive use has a small positive correlation with wife's education, while media exposure has a small negative correlation.\n",
    "\n",
    "Let's see what a Random Forest Decision Tree estimator has to say."
   ]
  },
  {
   "cell_type": "code",
   "execution_count": 6,
   "id": "8eb014de-2afe-4254-8722-0f2b17343795",
   "metadata": {},
   "outputs": [
    {
     "name": "stdout",
     "output_type": "stream",
     "text": [
      " 1) Wife's age                     0.405542\n",
      " 2) Religion                       0.257815\n",
      " 3) Wife's education               0.091886\n",
      " 4) Standard-of-living index       0.091308\n",
      " 5) Husband's education            0.067098\n",
      " 6) Wife's working?                0.039274\n",
      " 7) Number of children             0.028360\n",
      " 8) Media exposure                 0.018716\n"
     ]
    },
    {
     "data": {
      "text/plain": "<Figure size 640x480 with 1 Axes>",
      "image/png": "[encoded data removed]"
     },
     "metadata": {},
     "output_type": "display_data"
    }
   ],
   "source": [
    "from sklearn.ensemble import RandomForestClassifier\n",
    "from sklearn.model_selection import train_test_split\n",
    "import numpy as np\n",
    "import matplotlib.pyplot as plt\n",
    "\n",
    "#Code taken from textbook by Raschka\n",
    "feat_labels = df.columns[:8]\n",
    "rfc = RandomForestClassifier(n_estimators = 500,\n",
    "                            random_state = 1)\n",
    "X = df[[\"Wife's age\",\"Wife's education\",\n",
    "               \"Husband's education\", \"Religion\",\"Number of children\", \n",
    "               \"Wife's working?\",\"Standard-of-living index\",\n",
    "               \"Media exposure\"]]\n",
    "y = df[\"Contraceptive method used\"]\n",
    "\n",
    "X_train, X_test, y_train, y_test = train_test_split(X, y, test_size = 0.2, stratify = y)\n",
    "\n",
    "rfc.fit(X_train, y_train)\n",
    "importances = rfc.feature_importances_\n",
    "indices = np.argsort(importances)[::-1]\n",
    "for f in range(X_train.shape[1]):\n",
    "    print(\"%2d) %-*s %f\" % (f + 1, 30, \n",
    "                            feat_labels[indices[f]],\n",
    "                            importances[indices[f]]))\n",
    "plt.title('Feature importance')\n",
    "plt.bar(range(X_train.shape[1]),\n",
    "        importances[indices],\n",
    "        align='center')\n",
    "plt.xticks(range(X_train.shape[1]),\n",
    "            feat_labels[indices], rotation=90)\n",
    "plt.xlim([-1, X_train.shape[1]])\n",
    "plt.tight_layout()\n",
    "plt.show()\n",
    "                            "
   ]
  },
  {
   "cell_type": "markdown",
   "id": "080d188f-6581-4db2-995e-14160ba5ff55",
   "metadata": {},
   "source": [
    "Utilizing the Random Forest method for feature importance (outlined in Raschka et al. on page 134), we can see that the Wife's Age and the Religion will be the most likely to have an impact on training. "
   ]
  },
  {
   "cell_type": "markdown",
   "id": "5fbf89cb-2ee9-403f-8307-b88b9ae61269",
   "metadata": {},
   "source": [
    "For scaling, we went with min-max scaling. The reason is because the features we want to scale, age and number of children, have a defined 0. For example, it makes no sense to have a negative age or to have borne negative children. Since MinMax scales from 0 to 1, this will be our scaler of choice."
   ]
  },
  {
   "cell_type": "code",
   "execution_count": 7,
   "id": "0a8302e7-60dc-4d99-afde-cf587027a2ef",
   "metadata": {},
   "outputs": [],
   "source": [
    "from sklearn.preprocessing import MinMaxScaler\n",
    "mms = MinMaxScaler()\n",
    "\n",
    "X_train, X_test, y_train, y_test = train_test_split(X, y, test_size = 0.2, stratify = y)\n",
    "X_train[[\"Wife's age\", \"Number of children\"]] = mms.fit_transform(X_train[[\"Wife's age\", \"Number of children\"]])\n",
    "X_test[[\"Wife's age\", \"Number of children\"]] = mms.transform(X_test[[\"Wife's age\", \"Number of children\"]])"
   ]
  },
  {
   "cell_type": "markdown",
   "id": "97353fbd",
   "metadata": {},
   "source": [
    "<h3>Cross Product Features</h3>\n",
    "[1 points] Identify groups of features in your data that should be combined into cross-product features. Provide justification for why these features should be crossed (or why some features should not be crossed)."
   ]
  },
  {
   "cell_type": "markdown",
   "id": "2509b9eb",
   "metadata": {},
   "source": [
    "Wife working and wife education are related features that could be combined, but there is a lot of nuance between them. For example, education is generally linked to socio-economic class. A wife could have very high education and therefore be working a white collar job, or a wife could be poorly educated and need to work due to needing to bring in money to the household as well. We have a few enough features that is it not needed to cross product features, so due to the nuance in this case, we will test the features as is as well.\n",
    "\n",
    "Media exposure is linked to wife's education as well, so we will also try a model where these features are crossed."
   ]
  },
  {
   "cell_type": "markdown",
   "id": "a07b15ca",
   "metadata": {},
   "source": [
    "<h3>Metrics for Algorithm Performance</h3>\n",
    "[1 points] Choose and explain what metric(s) you will use to evaluate your algorithm’s performance. You should give a detailed argument for why this (these) metric(s) are appropriate on your data. That is, why is the metric appropriate for the task (e.g., in terms of the business case for the task). Please note: rarely is accuracy the best evaluation metric to use. Think deeply about an appropriate measure of performance.\n"
   ]
  },
  {
   "cell_type": "markdown",
   "id": "9e04428e",
   "metadata": {},
   "source": [
    "The most important feature prediction is no contraceptive use vs contraceptive use. We are using our prediction algorithm to determine which women we are going to give extra contraception information to. Taking contraceptive use as true, a false positive has much higher risk than a false negative. Because of this, we will choose specificity score as our metric. We want to cover all true negatives."
   ]
  },
  {
   "cell_type": "markdown",
   "id": "668a1e75",
   "metadata": {},
   "source": [
    "<h3>Dividing into Training and Testing</h3>\n",
    "[1 points] Choose the method you will use for dividing your data into training and testing (i.e., are you using Stratified 10-fold cross validation? Shuffle splits? Why?). Explain why your chosen method is appropriate or use more than one method as appropriate. Argue why your cross validation method is a realistic mirroring of how an algorithm would be used in practice."
   ]
  },
  {
   "cell_type": "markdown",
   "source": [
    "Our data is a subset of a census of Indonesian Women, so our split relies on the good practices of whom we got the dataset from. There is slightly more women without contraceptive use than the group using short term and the group using long term. Stratified splits would make sure we are testing of each class, however in this case, a standard shuffled split would work most of the time."
   ],
   "metadata": {
    "collapsed": false
   }
  },
  {
   "cell_type": "code",
   "execution_count": 30,
   "outputs": [
    {
     "ename": "NameError",
     "evalue": "name 'categorical_headers_ints' is not defined",
     "output_type": "error",
     "traceback": [
      "\u001B[1;31m---------------------------------------------------------------------------\u001B[0m",
      "\u001B[1;31mNameError\u001B[0m                                 Traceback (most recent call last)",
      "Cell \u001B[1;32mIn[30], line 10\u001B[0m\n\u001B[0;32m      5\u001B[0m input_branch \u001B[38;5;241m=\u001B[39m Input(shape\u001B[38;5;241m=\u001B[39m(X_train\u001B[38;5;241m.\u001B[39mshape[\u001B[38;5;241m1\u001B[39m],), \n\u001B[0;32m      6\u001B[0m                      dtype\u001B[38;5;241m=\u001B[39m\u001B[38;5;124m'\u001B[39m\u001B[38;5;124mint64\u001B[39m\u001B[38;5;124m'\u001B[39m, \n\u001B[0;32m      7\u001B[0m                      name\u001B[38;5;241m=\u001B[39m\u001B[38;5;124m'\u001B[39m\u001B[38;5;124mcategorical\u001B[39m\u001B[38;5;124m'\u001B[39m)\n\u001B[0;32m      9\u001B[0m \u001B[38;5;66;03m# for each categorical variable\u001B[39;00m\n\u001B[1;32m---> 10\u001B[0m \u001B[38;5;28;01mfor\u001B[39;00m idx,col \u001B[38;5;129;01min\u001B[39;00m \u001B[38;5;28menumerate\u001B[39m(\u001B[43mcategorical_headers_ints\u001B[49m):\n\u001B[0;32m     11\u001B[0m     \n\u001B[0;32m     12\u001B[0m     \u001B[38;5;66;03m# what the maximum integer value for this variable?\u001B[39;00m\n\u001B[0;32m     13\u001B[0m     \u001B[38;5;66;03m# which is the same as the number of categories\u001B[39;00m\n\u001B[0;32m     14\u001B[0m     \u001B[38;5;66;03m# these lines of code do the same thing\u001B[39;00m\n\u001B[0;32m     15\u001B[0m     N \u001B[38;5;241m=\u001B[39m \u001B[38;5;28mmax\u001B[39m(df_train[col]\u001B[38;5;241m.\u001B[39mmax(),df_test[col]\u001B[38;5;241m.\u001B[39mmax())\u001B[38;5;241m+\u001B[39m\u001B[38;5;241m1\u001B[39m\n\u001B[0;32m     16\u001B[0m     N \u001B[38;5;241m=\u001B[39m \u001B[38;5;28mlen\u001B[39m(encoders[categorical_headers[idx]]\u001B[38;5;241m.\u001B[39mclasses_)\n",
      "\u001B[1;31mNameError\u001B[0m: name 'categorical_headers_ints' is not defined"
     ]
    }
   ],
   "source": [],
   "metadata": {
    "collapsed": false
   }
  },
  {
   "cell_type": "markdown",
   "source": [
    "<h2>Modeling (5 points total)</h2>"
   ],
   "metadata": {
    "collapsed": false
   }
  },
  {
   "cell_type": "markdown",
   "source": [
    "Create at least three combined wide and deep networks to classify your data using Keras. Visualize the performance of the network on the training data and validation data in the same plot versus the training iterations. Note: use the \"history\" return parameter that is part of Keras \"fit\" function to easily access this data."
   ],
   "metadata": {
    "collapsed": false
   }
  },
  {
   "cell_type": "markdown",
   "source": [
    "Investigate generalization performance by altering the number of layers in the deep branch of the network. Try at least two different number of layers. Use the method of cross validation and evaluation metric that you argued for at the beginning of the lab to select the number of layers that performs superiorly."
   ],
   "metadata": {
    "collapsed": false
   }
  },
  {
   "cell_type": "markdown",
   "source": [
    "Compare the performance of your best wide and deep network to a standard multi-layer perceptron (MLP). Alternatively, you can compare to a network without the wide branch (i.e., just the deep network). ."
   ],
   "metadata": {
    "collapsed": false
   }
  },
  {
   "cell_type": "code",
   "execution_count": 40,
   "outputs": [],
   "source": [
    "categorical_headers = [\"Wife's education\",'Religion',\"Wife's working?\",\n",
    "                       'Standard-of-living index','Media exposure']\n",
    "num_headers = [\"Wife's age\", \"Number of children\"]"
   ],
   "metadata": {
    "collapsed": false
   }
  },
  {
   "cell_type": "code",
   "execution_count": 38,
   "outputs": [
    {
     "name": "stdout",
     "output_type": "stream",
     "text": [
      "Wife's education has 4 unique values:\n",
      "[4 2 3 1]\n",
      "Religion has 2 unique values:\n",
      "[1 0]\n",
      "Wife's working? has 2 unique values:\n",
      "[1 0]\n",
      "Standard-of-living index has 4 unique values:\n",
      "[3 1 4 2]\n",
      "Media exposure has 2 unique values:\n",
      "[0 1]\n"
     ]
    }
   ],
   "source": [
    "# sandbox for looking at different categorical variables\n",
    "for col in categorical_headers:\n",
    "    vals = X_train[col].unique()\n",
    "    print(col,'has', len(vals), 'unique values:')\n",
    "    print(vals)"
   ],
   "metadata": {
    "collapsed": false
   }
  },
  {
   "cell_type": "code",
   "execution_count": null,
   "outputs": [],
   "source": [],
   "metadata": {
    "collapsed": false
   }
  },
  {
   "cell_type": "code",
   "execution_count": 52,
   "outputs": [],
   "source": [
    "cross_columns = [[\"Media exposure\",\"Wife's education\"],\n",
    "                 [\"Wife's working?\",\"Wife's education\"],\n",
    "                 [\"Religion\"]\n",
    "                ]"
   ],
   "metadata": {
    "collapsed": false
   }
  },
  {
   "cell_type": "code",
   "execution_count": 9,
   "outputs": [],
   "source": [
    "import tensorflow as tf\n",
    "from tensorflow import keras\n",
    "import os\n",
    "os.environ['KMP_DUPLICATE_LIB_OK']='True'\n",
    "from tensorflow.keras.layers import Dense, Activation, Input\n",
    "from tensorflow.keras.metrics import SpecificityAtSensitivity\n",
    "speci_score = tf.keras.metrics.SpecificityAtSensitivity(0.5)"
   ],
   "metadata": {
    "collapsed": false
   }
  },
  {
   "cell_type": "code",
   "execution_count": 10,
   "outputs": [],
   "source": [
    "from keras.utils import np_utils\n",
    "from sklearn.preprocessing import LabelEncoder\n",
    "\n",
    "encoder = LabelEncoder()\n",
    "encoder.fit(y)\n",
    "encoded_Y = encoder.transform(y)"
   ],
   "metadata": {
    "collapsed": false
   }
  },
  {
   "cell_type": "code",
   "execution_count": 27,
   "outputs": [
    {
     "name": "stdout",
     "output_type": "stream",
     "text": [
      "Model: \"sequential_1\"\n",
      "_________________________________________________________________\n",
      " Layer (type)                Output Shape              Param #   \n",
      "=================================================================\n",
      " dense_26 (Dense)            (None, 6)                 54        \n",
      "                                                                 \n",
      " dense_27 (Dense)            (None, 1)                 7         \n",
      "                                                                 \n",
      "=================================================================\n",
      "Total params: 61\n",
      "Trainable params: 61\n",
      "Non-trainable params: 0\n",
      "_________________________________________________________________\n"
     ]
    }
   ],
   "source": [
    "from keras import Sequential\n",
    "#categorical_crossentropy\n",
    "model = Sequential()\n",
    "model.add(Dense(6, input_dim=8, activation='relu'))\n",
    "#model.add(Dense(8, activation='relu'))\n",
    "model.add(Dense(1, activation='relu'))\n",
    "\n",
    "model.summary()"
   ],
   "metadata": {
    "collapsed": false
   }
  },
  {
   "cell_type": "code",
   "execution_count": 28,
   "outputs": [],
   "source": [
    "#model.compile(loss='mean_squared_error', optimizer='adam', metrics=['SpecificityAtSensitivity'])\n",
    "model.compile(loss='categorical_crossentropy', optimizer='adam', metrics=['accuracy'])"
   ],
   "metadata": {
    "collapsed": false
   }
  },
  {
   "cell_type": "code",
   "execution_count": 29,
   "outputs": [
    {
     "name": "stdout",
     "output_type": "stream",
     "text": [
      "Epoch 1/100\n"
     ]
    },
    {
     "name": "stderr",
     "output_type": "stream",
     "text": [
      "C:\\Users\\rekuh\\AppData\\Local\\Programs\\Python\\Python310\\lib\\site-packages\\tensorflow\\python\\util\\dispatch.py:1176: SyntaxWarning: In loss categorical_crossentropy, expected y_pred.shape to be (batch_size, num_classes) with num_classes > 1. Received: y_pred.shape=(None, 1). Consider using 'binary_crossentropy' if you only have 2 classes.\n",
      "  return dispatch_target(*args, **kwargs)\n"
     ]
    },
    {
     "name": "stdout",
     "output_type": "stream",
     "text": [
      "40/40 [==============================] - 1s 3ms/step - loss: nan - accuracy: 0.0000e+00\n",
      "Epoch 2/100\n",
      "40/40 [==============================] - 0s 3ms/step - loss: nan - accuracy: 0.0000e+00\n",
      "Epoch 3/100\n",
      "40/40 [==============================] - 0s 2ms/step - loss: nan - accuracy: 0.0000e+00\n",
      "Epoch 4/100\n",
      "40/40 [==============================] - 0s 3ms/step - loss: nan - accuracy: 0.0000e+00\n",
      "Epoch 5/100\n",
      "40/40 [==============================] - 0s 2ms/step - loss: nan - accuracy: 0.0000e+00\n",
      "Epoch 6/100\n",
      "40/40 [==============================] - 0s 3ms/step - loss: nan - accuracy: 0.0000e+00\n",
      "Epoch 7/100\n",
      "40/40 [==============================] - 0s 3ms/step - loss: nan - accuracy: 0.0000e+00\n",
      "Epoch 8/100\n",
      "40/40 [==============================] - 0s 2ms/step - loss: nan - accuracy: 0.0000e+00\n",
      "Epoch 9/100\n",
      "40/40 [==============================] - 0s 3ms/step - loss: nan - accuracy: 0.0000e+00\n",
      "Epoch 10/100\n",
      "40/40 [==============================] - 0s 2ms/step - loss: nan - accuracy: 0.0000e+00\n",
      "Epoch 11/100\n",
      "40/40 [==============================] - 0s 2ms/step - loss: nan - accuracy: 0.0000e+00\n",
      "Epoch 12/100\n",
      "40/40 [==============================] - 0s 3ms/step - loss: nan - accuracy: 0.0000e+00\n",
      "Epoch 13/100\n",
      "40/40 [==============================] - 0s 3ms/step - loss: nan - accuracy: 0.0000e+00\n",
      "Epoch 14/100\n",
      "40/40 [==============================] - 0s 2ms/step - loss: nan - accuracy: 0.0000e+00\n",
      "Epoch 15/100\n",
      "40/40 [==============================] - 0s 3ms/step - loss: nan - accuracy: 0.0000e+00\n",
      "Epoch 16/100\n",
      "40/40 [==============================] - 0s 2ms/step - loss: nan - accuracy: 0.0000e+00\n",
      "Epoch 17/100\n",
      "40/40 [==============================] - 0s 2ms/step - loss: nan - accuracy: 0.0000e+00\n",
      "Epoch 18/100\n",
      "40/40 [==============================] - 0s 3ms/step - loss: nan - accuracy: 0.0000e+00\n",
      "Epoch 19/100\n",
      "40/40 [==============================] - 0s 2ms/step - loss: nan - accuracy: 0.0000e+00\n",
      "Epoch 20/100\n",
      "40/40 [==============================] - 0s 2ms/step - loss: nan - accuracy: 0.0000e+00\n",
      "Epoch 21/100\n",
      "40/40 [==============================] - 0s 2ms/step - loss: nan - accuracy: 0.0000e+00\n",
      "Epoch 22/100\n",
      "40/40 [==============================] - 0s 3ms/step - loss: nan - accuracy: 0.0000e+00\n",
      "Epoch 23/100\n",
      "40/40 [==============================] - 0s 2ms/step - loss: nan - accuracy: 0.0000e+00\n",
      "Epoch 24/100\n",
      "40/40 [==============================] - 0s 2ms/step - loss: nan - accuracy: 0.0000e+00\n",
      "Epoch 25/100\n",
      "40/40 [==============================] - 0s 3ms/step - loss: nan - accuracy: 0.0000e+00\n",
      "Epoch 26/100\n",
      "40/40 [==============================] - 0s 2ms/step - loss: nan - accuracy: 0.0000e+00\n",
      "Epoch 27/100\n",
      "40/40 [==============================] - 0s 3ms/step - loss: nan - accuracy: 0.0000e+00\n",
      "Epoch 28/100\n",
      "40/40 [==============================] - 0s 3ms/step - loss: nan - accuracy: 0.0000e+00\n",
      "Epoch 29/100\n",
      "40/40 [==============================] - 0s 3ms/step - loss: nan - accuracy: 0.0000e+00\n",
      "Epoch 30/100\n",
      "40/40 [==============================] - 0s 3ms/step - loss: nan - accuracy: 0.0000e+00\n",
      "Epoch 31/100\n",
      "40/40 [==============================] - 0s 3ms/step - loss: nan - accuracy: 0.0000e+00\n",
      "Epoch 32/100\n",
      "40/40 [==============================] - 0s 2ms/step - loss: nan - accuracy: 0.0000e+00\n",
      "Epoch 33/100\n",
      "40/40 [==============================] - 0s 2ms/step - loss: nan - accuracy: 0.0000e+00\n",
      "Epoch 34/100\n",
      "40/40 [==============================] - 0s 2ms/step - loss: nan - accuracy: 0.0000e+00\n",
      "Epoch 35/100\n",
      "40/40 [==============================] - 0s 3ms/step - loss: nan - accuracy: 0.0000e+00\n",
      "Epoch 36/100\n",
      "40/40 [==============================] - 0s 2ms/step - loss: nan - accuracy: 0.0000e+00\n",
      "Epoch 37/100\n",
      "40/40 [==============================] - 0s 3ms/step - loss: nan - accuracy: 0.0000e+00\n",
      "Epoch 38/100\n",
      "40/40 [==============================] - 0s 2ms/step - loss: nan - accuracy: 0.0000e+00\n",
      "Epoch 39/100\n",
      "40/40 [==============================] - 0s 2ms/step - loss: nan - accuracy: 0.0000e+00\n",
      "Epoch 40/100\n",
      "40/40 [==============================] - 0s 2ms/step - loss: nan - accuracy: 0.0000e+00\n",
      "Epoch 41/100\n",
      "40/40 [==============================] - 0s 3ms/step - loss: nan - accuracy: 0.0000e+00\n",
      "Epoch 42/100\n",
      "40/40 [==============================] - 0s 2ms/step - loss: nan - accuracy: 0.0000e+00\n",
      "Epoch 43/100\n",
      "40/40 [==============================] - 0s 2ms/step - loss: nan - accuracy: 0.0000e+00\n",
      "Epoch 44/100\n",
      "40/40 [==============================] - 0s 2ms/step - loss: nan - accuracy: 0.0000e+00\n",
      "Epoch 45/100\n",
      "40/40 [==============================] - 0s 3ms/step - loss: nan - accuracy: 0.0000e+00\n",
      "Epoch 46/100\n",
      "40/40 [==============================] - 0s 2ms/step - loss: nan - accuracy: 0.0000e+00\n",
      "Epoch 47/100\n",
      "40/40 [==============================] - 0s 3ms/step - loss: nan - accuracy: 0.0000e+00\n",
      "Epoch 48/100\n",
      "40/40 [==============================] - 0s 3ms/step - loss: nan - accuracy: 0.0000e+00\n",
      "Epoch 49/100\n",
      "40/40 [==============================] - 0s 2ms/step - loss: nan - accuracy: 0.0000e+00\n",
      "Epoch 50/100\n",
      "40/40 [==============================] - 0s 3ms/step - loss: nan - accuracy: 0.0000e+00\n",
      "Epoch 51/100\n",
      "40/40 [==============================] - 0s 2ms/step - loss: nan - accuracy: 0.0000e+00\n",
      "Epoch 52/100\n",
      "40/40 [==============================] - 0s 2ms/step - loss: nan - accuracy: 0.0000e+00\n",
      "Epoch 53/100\n",
      "40/40 [==============================] - 0s 3ms/step - loss: nan - accuracy: 0.0000e+00\n",
      "Epoch 54/100\n",
      "40/40 [==============================] - 0s 3ms/step - loss: nan - accuracy: 0.0000e+00\n",
      "Epoch 55/100\n",
      "40/40 [==============================] - 0s 3ms/step - loss: nan - accuracy: 0.0000e+00\n",
      "Epoch 56/100\n",
      "40/40 [==============================] - 0s 2ms/step - loss: nan - accuracy: 0.0000e+00\n",
      "Epoch 57/100\n",
      "40/40 [==============================] - 0s 3ms/step - loss: nan - accuracy: 0.0000e+00\n",
      "Epoch 58/100\n",
      "40/40 [==============================] - 0s 3ms/step - loss: nan - accuracy: 0.0000e+00\n",
      "Epoch 59/100\n",
      "40/40 [==============================] - 0s 3ms/step - loss: nan - accuracy: 0.0000e+00\n",
      "Epoch 60/100\n",
      "40/40 [==============================] - 0s 3ms/step - loss: nan - accuracy: 0.0000e+00\n",
      "Epoch 61/100\n",
      "40/40 [==============================] - 0s 2ms/step - loss: nan - accuracy: 0.0000e+00\n",
      "Epoch 62/100\n",
      "40/40 [==============================] - 0s 3ms/step - loss: nan - accuracy: 0.0000e+00\n",
      "Epoch 63/100\n",
      "40/40 [==============================] - 0s 3ms/step - loss: nan - accuracy: 0.0000e+00\n",
      "Epoch 64/100\n",
      "40/40 [==============================] - 0s 2ms/step - loss: nan - accuracy: 0.0000e+00\n",
      "Epoch 65/100\n",
      "40/40 [==============================] - 0s 2ms/step - loss: nan - accuracy: 0.0000e+00\n",
      "Epoch 66/100\n",
      "40/40 [==============================] - 0s 3ms/step - loss: nan - accuracy: 0.0000e+00\n",
      "Epoch 67/100\n",
      "40/40 [==============================] - 0s 3ms/step - loss: nan - accuracy: 0.0000e+00\n",
      "Epoch 68/100\n",
      "40/40 [==============================] - 0s 3ms/step - loss: nan - accuracy: 0.0000e+00\n",
      "Epoch 69/100\n",
      "40/40 [==============================] - 0s 3ms/step - loss: nan - accuracy: 0.0000e+00\n",
      "Epoch 70/100\n",
      "40/40 [==============================] - 0s 3ms/step - loss: nan - accuracy: 0.0000e+00\n",
      "Epoch 71/100\n",
      "40/40 [==============================] - 0s 2ms/step - loss: nan - accuracy: 0.0000e+00\n",
      "Epoch 72/100\n",
      "40/40 [==============================] - 0s 3ms/step - loss: nan - accuracy: 0.0000e+00\n",
      "Epoch 73/100\n",
      "40/40 [==============================] - 0s 2ms/step - loss: nan - accuracy: 0.0000e+00\n",
      "Epoch 74/100\n",
      "40/40 [==============================] - 0s 2ms/step - loss: nan - accuracy: 0.0000e+00\n",
      "Epoch 75/100\n",
      "40/40 [==============================] - 0s 3ms/step - loss: nan - accuracy: 0.0000e+00\n",
      "Epoch 76/100\n",
      "40/40 [==============================] - 0s 3ms/step - loss: nan - accuracy: 0.0000e+00\n",
      "Epoch 77/100\n",
      "40/40 [==============================] - 0s 3ms/step - loss: nan - accuracy: 0.0000e+00\n",
      "Epoch 78/100\n",
      "40/40 [==============================] - 0s 3ms/step - loss: nan - accuracy: 0.0000e+00\n",
      "Epoch 79/100\n",
      "40/40 [==============================] - 0s 3ms/step - loss: nan - accuracy: 0.0000e+00\n",
      "Epoch 80/100\n",
      "40/40 [==============================] - 0s 3ms/step - loss: nan - accuracy: 0.0000e+00\n",
      "Epoch 81/100\n",
      "40/40 [==============================] - 0s 3ms/step - loss: nan - accuracy: 0.0000e+00\n",
      "Epoch 82/100\n",
      "40/40 [==============================] - 0s 3ms/step - loss: nan - accuracy: 0.0000e+00\n",
      "Epoch 83/100\n",
      "40/40 [==============================] - 0s 2ms/step - loss: nan - accuracy: 0.0000e+00\n",
      "Epoch 84/100\n",
      "40/40 [==============================] - 0s 3ms/step - loss: nan - accuracy: 0.0000e+00\n",
      "Epoch 85/100\n",
      "40/40 [==============================] - 0s 3ms/step - loss: nan - accuracy: 0.0000e+00\n",
      "Epoch 86/100\n",
      "40/40 [==============================] - 0s 3ms/step - loss: nan - accuracy: 0.0000e+00\n",
      "Epoch 87/100\n",
      "40/40 [==============================] - 0s 2ms/step - loss: nan - accuracy: 0.0000e+00\n",
      "Epoch 88/100\n",
      "40/40 [==============================] - 0s 3ms/step - loss: nan - accuracy: 0.0000e+00\n",
      "Epoch 89/100\n",
      "40/40 [==============================] - 0s 3ms/step - loss: nan - accuracy: 0.0000e+00\n",
      "Epoch 90/100\n",
      "40/40 [==============================] - 0s 3ms/step - loss: nan - accuracy: 0.0000e+00\n",
      "Epoch 91/100\n",
      "40/40 [==============================] - 0s 2ms/step - loss: nan - accuracy: 0.0000e+00\n",
      "Epoch 92/100\n",
      "40/40 [==============================] - 0s 3ms/step - loss: nan - accuracy: 0.0000e+00\n",
      "Epoch 93/100\n",
      "40/40 [==============================] - 0s 3ms/step - loss: nan - accuracy: 0.0000e+00\n",
      "Epoch 94/100\n",
      "40/40 [==============================] - 0s 3ms/step - loss: nan - accuracy: 0.0000e+00\n",
      "Epoch 95/100\n",
      "40/40 [==============================] - 0s 3ms/step - loss: nan - accuracy: 0.0000e+00\n",
      "Epoch 96/100\n",
      "40/40 [==============================] - 0s 3ms/step - loss: nan - accuracy: 0.0000e+00\n",
      "Epoch 97/100\n",
      "40/40 [==============================] - 0s 2ms/step - loss: nan - accuracy: 0.0000e+00\n",
      "Epoch 98/100\n",
      "40/40 [==============================] - 0s 2ms/step - loss: nan - accuracy: 0.0000e+00\n",
      "Epoch 99/100\n",
      "40/40 [==============================] - 0s 2ms/step - loss: nan - accuracy: 0.0000e+00\n",
      "Epoch 100/100\n",
      "40/40 [==============================] - 0s 3ms/step - loss: nan - accuracy: 0.0000e+00\n"
     ]
    },
    {
     "data": {
      "text/plain": "<keras.callbacks.History at 0x1fa8d056ef0>"
     },
     "execution_count": 29,
     "metadata": {},
     "output_type": "execute_result"
    }
   ],
   "source": [
    "model.fit(X_train, y_train, epochs=100, batch_size=30, verbose=1)"
   ],
   "metadata": {
    "collapsed": false
   }
  },
  {
   "cell_type": "markdown",
   "source": [
    "Non-Crossed Model"
   ],
   "metadata": {
    "collapsed": false
   }
  },
  {
   "cell_type": "code",
   "execution_count": 23,
   "outputs": [
    {
     "name": "stdout",
     "output_type": "stream",
     "text": [
      "Model: \"model_7\"\n",
      "_________________________________________________________________\n",
      " Layer (type)                Output Shape              Param #   \n",
      "=================================================================\n",
      " input_8 (InputLayer)        [(None, 8)]               0         \n",
      "                                                                 \n",
      " dense_23 (Dense)            (None, 10)                90        \n",
      "                                                                 \n",
      " dense_24 (Dense)            (None, 5)                 55        \n",
      "                                                                 \n",
      " dense_25 (Dense)            (None, 1)                 6         \n",
      "                                                                 \n",
      "=================================================================\n",
      "Total params: 151\n",
      "Trainable params: 151\n",
      "Non-trainable params: 0\n",
      "_________________________________________________________________\n"
     ]
    }
   ],
   "source": [
    "from tensorflow.keras.models import Model\n",
    "# First, lets setup the input size\n",
    "num_features = X_train.shape[1]\n",
    "input_tensor = Input(shape=(num_features,))\n",
    "\n",
    "# a layer instance is callable on a tensor, and returns a tensor\n",
    "# Dense means a fully connected layer, with 10 hidden neurons and a bias term\n",
    "x = Dense(units=10, activation='relu')(input_tensor)\n",
    "x = Dense(units=5, activation='tanh')(x)\n",
    "predictions = Dense(1, activation='softmax')(x)\n",
    "\n",
    "# This creates a model that includes\n",
    "# the Input layer and three Dense layers\n",
    "model = Model(inputs=input_tensor, outputs=predictions)\n",
    "\n",
    "\n",
    "model.compile(optimizer='adam',\n",
    "              loss='categorical_crossentropy',\n",
    "              metrics=['accuracy'])\n",
    "              #metrics=[SpecificityAtSensitivity(.5)])\n",
    "\n",
    "model.summary()"
   ],
   "metadata": {
    "collapsed": false
   }
  },
  {
   "cell_type": "markdown",
   "source": [],
   "metadata": {
    "collapsed": false
   }
  },
  {
   "cell_type": "code",
   "execution_count": 24,
   "outputs": [
    {
     "name": "stdout",
     "output_type": "stream",
     "text": [
      "Epoch 1/100\n"
     ]
    },
    {
     "name": "stderr",
     "output_type": "stream",
     "text": [
      "C:\\Users\\rekuh\\AppData\\Local\\Programs\\Python\\Python310\\lib\\site-packages\\tensorflow\\python\\util\\dispatch.py:1176: SyntaxWarning: In loss categorical_crossentropy, expected y_pred.shape to be (batch_size, num_classes) with num_classes > 1. Received: y_pred.shape=(None, 1). Consider using 'binary_crossentropy' if you only have 2 classes.\n",
      "  return dispatch_target(*args, **kwargs)\n"
     ]
    },
    {
     "name": "stdout",
     "output_type": "stream",
     "text": [
      "40/40 [==============================] - 2s 2ms/step - loss: 0.0000e+00 - accuracy: 0.4270\n",
      "Epoch 2/100\n",
      "40/40 [==============================] - 0s 3ms/step - loss: 0.0000e+00 - accuracy: 0.4270\n",
      "Epoch 3/100\n",
      "40/40 [==============================] - 0s 3ms/step - loss: 0.0000e+00 - accuracy: 0.4270\n",
      "Epoch 4/100\n",
      "40/40 [==============================] - 0s 3ms/step - loss: 0.0000e+00 - accuracy: 0.4270\n",
      "Epoch 5/100\n",
      "40/40 [==============================] - 0s 3ms/step - loss: 0.0000e+00 - accuracy: 0.4270\n",
      "Epoch 6/100\n",
      "40/40 [==============================] - 0s 3ms/step - loss: 0.0000e+00 - accuracy: 0.4270\n",
      "Epoch 7/100\n",
      "40/40 [==============================] - 0s 4ms/step - loss: 0.0000e+00 - accuracy: 0.4270\n",
      "Epoch 8/100\n",
      "40/40 [==============================] - 0s 3ms/step - loss: 0.0000e+00 - accuracy: 0.4270\n",
      "Epoch 9/100\n",
      "40/40 [==============================] - 0s 3ms/step - loss: 0.0000e+00 - accuracy: 0.4270\n",
      "Epoch 10/100\n",
      "40/40 [==============================] - 0s 3ms/step - loss: 0.0000e+00 - accuracy: 0.4270\n",
      "Epoch 11/100\n",
      "40/40 [==============================] - 0s 3ms/step - loss: 0.0000e+00 - accuracy: 0.4270\n",
      "Epoch 12/100\n",
      "40/40 [==============================] - 0s 3ms/step - loss: 0.0000e+00 - accuracy: 0.4270\n",
      "Epoch 13/100\n",
      "40/40 [==============================] - 0s 3ms/step - loss: 0.0000e+00 - accuracy: 0.4270\n",
      "Epoch 14/100\n",
      "40/40 [==============================] - 0s 4ms/step - loss: 0.0000e+00 - accuracy: 0.4270\n",
      "Epoch 15/100\n",
      "40/40 [==============================] - 0s 5ms/step - loss: 0.0000e+00 - accuracy: 0.4270\n",
      "Epoch 16/100\n",
      "40/40 [==============================] - 0s 4ms/step - loss: 0.0000e+00 - accuracy: 0.4270\n",
      "Epoch 17/100\n",
      "40/40 [==============================] - 0s 4ms/step - loss: 0.0000e+00 - accuracy: 0.4270\n",
      "Epoch 18/100\n",
      "40/40 [==============================] - 0s 4ms/step - loss: 0.0000e+00 - accuracy: 0.4270\n",
      "Epoch 19/100\n",
      "40/40 [==============================] - 0s 3ms/step - loss: 0.0000e+00 - accuracy: 0.4270\n",
      "Epoch 20/100\n",
      "40/40 [==============================] - 0s 3ms/step - loss: 0.0000e+00 - accuracy: 0.4270\n",
      "Epoch 21/100\n",
      "40/40 [==============================] - 0s 3ms/step - loss: 0.0000e+00 - accuracy: 0.4270\n",
      "Epoch 22/100\n",
      "40/40 [==============================] - 0s 3ms/step - loss: 0.0000e+00 - accuracy: 0.4270\n",
      "Epoch 23/100\n",
      "40/40 [==============================] - 0s 3ms/step - loss: 0.0000e+00 - accuracy: 0.4270\n",
      "Epoch 24/100\n",
      "40/40 [==============================] - 0s 3ms/step - loss: 0.0000e+00 - accuracy: 0.4270\n",
      "Epoch 25/100\n",
      "40/40 [==============================] - 0s 3ms/step - loss: 0.0000e+00 - accuracy: 0.4270\n",
      "Epoch 26/100\n",
      "40/40 [==============================] - 0s 3ms/step - loss: 0.0000e+00 - accuracy: 0.4270\n",
      "Epoch 27/100\n",
      "40/40 [==============================] - 0s 3ms/step - loss: 0.0000e+00 - accuracy: 0.4270\n",
      "Epoch 28/100\n",
      "40/40 [==============================] - 0s 3ms/step - loss: 0.0000e+00 - accuracy: 0.4270\n",
      "Epoch 29/100\n",
      "40/40 [==============================] - 0s 2ms/step - loss: 0.0000e+00 - accuracy: 0.4270\n",
      "Epoch 30/100\n",
      "40/40 [==============================] - 0s 3ms/step - loss: 0.0000e+00 - accuracy: 0.4270\n",
      "Epoch 31/100\n",
      "40/40 [==============================] - 0s 2ms/step - loss: 0.0000e+00 - accuracy: 0.4270\n",
      "Epoch 32/100\n",
      "40/40 [==============================] - 0s 3ms/step - loss: 0.0000e+00 - accuracy: 0.4270\n",
      "Epoch 33/100\n",
      "40/40 [==============================] - 0s 2ms/step - loss: 0.0000e+00 - accuracy: 0.4270\n",
      "Epoch 34/100\n",
      "40/40 [==============================] - 0s 2ms/step - loss: 0.0000e+00 - accuracy: 0.4270\n",
      "Epoch 35/100\n",
      "40/40 [==============================] - 0s 3ms/step - loss: 0.0000e+00 - accuracy: 0.4270\n",
      "Epoch 36/100\n",
      "40/40 [==============================] - 0s 2ms/step - loss: 0.0000e+00 - accuracy: 0.4270\n",
      "Epoch 37/100\n",
      "40/40 [==============================] - 0s 3ms/step - loss: 0.0000e+00 - accuracy: 0.4270\n",
      "Epoch 38/100\n",
      "40/40 [==============================] - 0s 3ms/step - loss: 0.0000e+00 - accuracy: 0.4270\n",
      "Epoch 39/100\n",
      "40/40 [==============================] - 0s 3ms/step - loss: 0.0000e+00 - accuracy: 0.4270\n",
      "Epoch 40/100\n",
      "40/40 [==============================] - 0s 3ms/step - loss: 0.0000e+00 - accuracy: 0.4270\n",
      "Epoch 41/100\n",
      "40/40 [==============================] - 0s 2ms/step - loss: 0.0000e+00 - accuracy: 0.4270\n",
      "Epoch 42/100\n",
      "40/40 [==============================] - 0s 2ms/step - loss: 0.0000e+00 - accuracy: 0.4270\n",
      "Epoch 43/100\n",
      "40/40 [==============================] - 0s 3ms/step - loss: 0.0000e+00 - accuracy: 0.4270\n",
      "Epoch 44/100\n",
      "40/40 [==============================] - 0s 3ms/step - loss: 0.0000e+00 - accuracy: 0.4270\n",
      "Epoch 45/100\n",
      "40/40 [==============================] - 0s 3ms/step - loss: 0.0000e+00 - accuracy: 0.4270\n",
      "Epoch 46/100\n",
      "40/40 [==============================] - 0s 2ms/step - loss: 0.0000e+00 - accuracy: 0.4270\n",
      "Epoch 47/100\n",
      "40/40 [==============================] - 0s 2ms/step - loss: 0.0000e+00 - accuracy: 0.4270\n",
      "Epoch 48/100\n",
      "40/40 [==============================] - 0s 3ms/step - loss: 0.0000e+00 - accuracy: 0.4270\n",
      "Epoch 49/100\n",
      "40/40 [==============================] - 0s 3ms/step - loss: 0.0000e+00 - accuracy: 0.4270\n",
      "Epoch 50/100\n",
      "40/40 [==============================] - 0s 4ms/step - loss: 0.0000e+00 - accuracy: 0.4270\n",
      "Epoch 51/100\n",
      "40/40 [==============================] - 0s 3ms/step - loss: 0.0000e+00 - accuracy: 0.4270\n",
      "Epoch 52/100\n",
      "40/40 [==============================] - 0s 3ms/step - loss: 0.0000e+00 - accuracy: 0.4270\n",
      "Epoch 53/100\n",
      "40/40 [==============================] - 0s 3ms/step - loss: 0.0000e+00 - accuracy: 0.4270\n",
      "Epoch 54/100\n",
      "40/40 [==============================] - 0s 3ms/step - loss: 0.0000e+00 - accuracy: 0.4270\n",
      "Epoch 55/100\n",
      "40/40 [==============================] - 0s 3ms/step - loss: 0.0000e+00 - accuracy: 0.4270\n",
      "Epoch 56/100\n",
      "40/40 [==============================] - 0s 3ms/step - loss: 0.0000e+00 - accuracy: 0.4270\n",
      "Epoch 57/100\n",
      "40/40 [==============================] - 0s 3ms/step - loss: 0.0000e+00 - accuracy: 0.4270\n",
      "Epoch 58/100\n",
      "40/40 [==============================] - 0s 3ms/step - loss: 0.0000e+00 - accuracy: 0.4270\n",
      "Epoch 59/100\n",
      "40/40 [==============================] - 0s 2ms/step - loss: 0.0000e+00 - accuracy: 0.4270\n",
      "Epoch 60/100\n",
      "40/40 [==============================] - 0s 4ms/step - loss: 0.0000e+00 - accuracy: 0.4270\n",
      "Epoch 61/100\n",
      "40/40 [==============================] - 0s 3ms/step - loss: 0.0000e+00 - accuracy: 0.4270\n",
      "Epoch 62/100\n",
      "40/40 [==============================] - 0s 3ms/step - loss: 0.0000e+00 - accuracy: 0.4270\n",
      "Epoch 63/100\n",
      "40/40 [==============================] - 0s 3ms/step - loss: 0.0000e+00 - accuracy: 0.4270\n",
      "Epoch 64/100\n",
      "40/40 [==============================] - 0s 3ms/step - loss: 0.0000e+00 - accuracy: 0.4270\n",
      "Epoch 65/100\n",
      "40/40 [==============================] - 0s 3ms/step - loss: 0.0000e+00 - accuracy: 0.4270\n",
      "Epoch 66/100\n",
      "40/40 [==============================] - 0s 2ms/step - loss: 0.0000e+00 - accuracy: 0.4270\n",
      "Epoch 67/100\n",
      "40/40 [==============================] - 0s 2ms/step - loss: 0.0000e+00 - accuracy: 0.4270\n",
      "Epoch 68/100\n",
      "40/40 [==============================] - 0s 3ms/step - loss: 0.0000e+00 - accuracy: 0.4270\n",
      "Epoch 69/100\n",
      "40/40 [==============================] - 0s 3ms/step - loss: 0.0000e+00 - accuracy: 0.4270\n",
      "Epoch 70/100\n",
      "40/40 [==============================] - 0s 3ms/step - loss: 0.0000e+00 - accuracy: 0.4270\n",
      "Epoch 71/100\n",
      "40/40 [==============================] - 0s 3ms/step - loss: 0.0000e+00 - accuracy: 0.4270\n",
      "Epoch 72/100\n",
      "40/40 [==============================] - 0s 3ms/step - loss: 0.0000e+00 - accuracy: 0.4270\n",
      "Epoch 73/100\n",
      "40/40 [==============================] - 0s 3ms/step - loss: 0.0000e+00 - accuracy: 0.4270\n",
      "Epoch 74/100\n",
      "40/40 [==============================] - 0s 3ms/step - loss: 0.0000e+00 - accuracy: 0.4270\n",
      "Epoch 75/100\n",
      "40/40 [==============================] - 0s 2ms/step - loss: 0.0000e+00 - accuracy: 0.4270\n",
      "Epoch 76/100\n",
      "40/40 [==============================] - 0s 3ms/step - loss: 0.0000e+00 - accuracy: 0.4270\n",
      "Epoch 77/100\n",
      "40/40 [==============================] - 0s 3ms/step - loss: 0.0000e+00 - accuracy: 0.4270\n",
      "Epoch 78/100\n",
      "40/40 [==============================] - 0s 3ms/step - loss: 0.0000e+00 - accuracy: 0.4270\n",
      "Epoch 79/100\n",
      "40/40 [==============================] - 0s 3ms/step - loss: 0.0000e+00 - accuracy: 0.4270\n",
      "Epoch 80/100\n",
      "40/40 [==============================] - 0s 2ms/step - loss: 0.0000e+00 - accuracy: 0.4270\n",
      "Epoch 81/100\n",
      "40/40 [==============================] - 0s 2ms/step - loss: 0.0000e+00 - accuracy: 0.4270\n",
      "Epoch 82/100\n",
      "40/40 [==============================] - 0s 2ms/step - loss: 0.0000e+00 - accuracy: 0.4270\n",
      "Epoch 83/100\n",
      "40/40 [==============================] - 0s 3ms/step - loss: 0.0000e+00 - accuracy: 0.4270\n",
      "Epoch 84/100\n",
      "40/40 [==============================] - 0s 3ms/step - loss: 0.0000e+00 - accuracy: 0.4270\n",
      "Epoch 85/100\n",
      "40/40 [==============================] - 0s 3ms/step - loss: 0.0000e+00 - accuracy: 0.4270\n",
      "Epoch 86/100\n",
      "40/40 [==============================] - 0s 3ms/step - loss: 0.0000e+00 - accuracy: 0.4270\n",
      "Epoch 87/100\n",
      "40/40 [==============================] - 0s 3ms/step - loss: 0.0000e+00 - accuracy: 0.4270\n",
      "Epoch 88/100\n",
      "40/40 [==============================] - 0s 3ms/step - loss: 0.0000e+00 - accuracy: 0.4270\n",
      "Epoch 89/100\n",
      "40/40 [==============================] - 0s 3ms/step - loss: 0.0000e+00 - accuracy: 0.4270\n",
      "Epoch 90/100\n",
      "40/40 [==============================] - 0s 3ms/step - loss: 0.0000e+00 - accuracy: 0.4270\n",
      "Epoch 91/100\n",
      "40/40 [==============================] - 0s 3ms/step - loss: 0.0000e+00 - accuracy: 0.4270\n",
      "Epoch 92/100\n",
      "40/40 [==============================] - 0s 5ms/step - loss: 0.0000e+00 - accuracy: 0.4270\n",
      "Epoch 93/100\n",
      "40/40 [==============================] - 0s 3ms/step - loss: 0.0000e+00 - accuracy: 0.4270\n",
      "Epoch 94/100\n",
      "40/40 [==============================] - 0s 3ms/step - loss: 0.0000e+00 - accuracy: 0.4270\n",
      "Epoch 95/100\n",
      "40/40 [==============================] - 0s 3ms/step - loss: 0.0000e+00 - accuracy: 0.4270\n",
      "Epoch 96/100\n",
      "40/40 [==============================] - 0s 3ms/step - loss: 0.0000e+00 - accuracy: 0.4270\n",
      "Epoch 97/100\n",
      "40/40 [==============================] - 0s 2ms/step - loss: 0.0000e+00 - accuracy: 0.4270\n",
      "Epoch 98/100\n",
      "40/40 [==============================] - 0s 3ms/step - loss: 0.0000e+00 - accuracy: 0.4270\n",
      "Epoch 99/100\n",
      "40/40 [==============================] - 0s 2ms/step - loss: 0.0000e+00 - accuracy: 0.4270\n",
      "Epoch 100/100\n",
      "40/40 [==============================] - 0s 3ms/step - loss: 0.0000e+00 - accuracy: 0.4270\n"
     ]
    },
    {
     "data": {
      "text/plain": "<keras.callbacks.History at 0x1fa8bc88d30>"
     },
     "execution_count": 24,
     "metadata": {},
     "output_type": "execute_result"
    }
   ],
   "source": [
    "model.fit(X_train, y_train, epochs=100, batch_size=30, verbose=1)"
   ],
   "metadata": {
    "collapsed": false
   }
  },
  {
   "cell_type": "code",
   "execution_count": 25,
   "outputs": [
    {
     "name": "stdout",
     "output_type": "stream",
     "text": [
      "Epoch 1/150\n",
      "13/24 [===============>..............] - ETA: 0s - loss: 0.0000e+00 - accuracy: 0.3538"
     ]
    },
    {
     "name": "stderr",
     "output_type": "stream",
     "text": [
      "C:\\Users\\rekuh\\AppData\\Local\\Programs\\Python\\Python310\\lib\\site-packages\\tensorflow\\python\\util\\dispatch.py:1176: SyntaxWarning: In loss categorical_crossentropy, expected y_pred.shape to be (batch_size, num_classes) with num_classes > 1. Received: y_pred.shape=(None, 1). Consider using 'binary_crossentropy' if you only have 2 classes.\n",
      "  return dispatch_target(*args, **kwargs)\n"
     ]
    },
    {
     "name": "stdout",
     "output_type": "stream",
     "text": [
      "24/24 [==============================] - 1s 35ms/step - loss: 0.0000e+00 - accuracy: 0.4110 - val_loss: 0.0000e+00 - val_accuracy: 0.4915\n",
      "Epoch 2/150\n",
      "24/24 [==============================] - 0s 17ms/step - loss: 0.0000e+00 - accuracy: 0.4110 - val_loss: 0.0000e+00 - val_accuracy: 0.4915\n",
      "Epoch 3/150\n",
      "24/24 [==============================] - 0s 7ms/step - loss: 0.0000e+00 - accuracy: 0.4110 - val_loss: 0.0000e+00 - val_accuracy: 0.4915\n",
      "Epoch 4/150\n",
      "24/24 [==============================] - 0s 6ms/step - loss: 0.0000e+00 - accuracy: 0.4110 - val_loss: 0.0000e+00 - val_accuracy: 0.4915\n",
      "Epoch 5/150\n",
      "24/24 [==============================] - 0s 7ms/step - loss: 0.0000e+00 - accuracy: 0.4110 - val_loss: 0.0000e+00 - val_accuracy: 0.4915\n",
      "Epoch 6/150\n",
      "24/24 [==============================] - 0s 7ms/step - loss: 0.0000e+00 - accuracy: 0.4110 - val_loss: 0.0000e+00 - val_accuracy: 0.4915\n",
      "Epoch 7/150\n",
      "24/24 [==============================] - 0s 7ms/step - loss: 0.0000e+00 - accuracy: 0.4110 - val_loss: 0.0000e+00 - val_accuracy: 0.4915\n",
      "Epoch 8/150\n",
      "24/24 [==============================] - 0s 7ms/step - loss: 0.0000e+00 - accuracy: 0.4110 - val_loss: 0.0000e+00 - val_accuracy: 0.4915\n",
      "Epoch 9/150\n",
      "24/24 [==============================] - 0s 7ms/step - loss: 0.0000e+00 - accuracy: 0.4110 - val_loss: 0.0000e+00 - val_accuracy: 0.4915\n",
      "Epoch 10/150\n",
      "24/24 [==============================] - 0s 7ms/step - loss: 0.0000e+00 - accuracy: 0.4110 - val_loss: 0.0000e+00 - val_accuracy: 0.4915\n",
      "Epoch 11/150\n",
      "24/24 [==============================] - 0s 6ms/step - loss: 0.0000e+00 - accuracy: 0.4110 - val_loss: 0.0000e+00 - val_accuracy: 0.4915\n",
      "Epoch 12/150\n",
      "24/24 [==============================] - 0s 6ms/step - loss: 0.0000e+00 - accuracy: 0.4110 - val_loss: 0.0000e+00 - val_accuracy: 0.4915\n",
      "Epoch 13/150\n",
      "24/24 [==============================] - 0s 6ms/step - loss: 0.0000e+00 - accuracy: 0.4110 - val_loss: 0.0000e+00 - val_accuracy: 0.4915\n",
      "Epoch 14/150\n",
      "24/24 [==============================] - 0s 6ms/step - loss: 0.0000e+00 - accuracy: 0.4110 - val_loss: 0.0000e+00 - val_accuracy: 0.4915\n",
      "Epoch 15/150\n",
      "24/24 [==============================] - 0s 5ms/step - loss: 0.0000e+00 - accuracy: 0.4110 - val_loss: 0.0000e+00 - val_accuracy: 0.4915\n",
      "Epoch 16/150\n",
      "24/24 [==============================] - 0s 6ms/step - loss: 0.0000e+00 - accuracy: 0.4110 - val_loss: 0.0000e+00 - val_accuracy: 0.4915\n",
      "Epoch 17/150\n",
      "24/24 [==============================] - 0s 6ms/step - loss: 0.0000e+00 - accuracy: 0.4110 - val_loss: 0.0000e+00 - val_accuracy: 0.4915\n",
      "Epoch 18/150\n",
      "24/24 [==============================] - 0s 7ms/step - loss: 0.0000e+00 - accuracy: 0.4110 - val_loss: 0.0000e+00 - val_accuracy: 0.4915\n",
      "Epoch 19/150\n",
      "24/24 [==============================] - 0s 6ms/step - loss: 0.0000e+00 - accuracy: 0.4110 - val_loss: 0.0000e+00 - val_accuracy: 0.4915\n",
      "Epoch 20/150\n",
      "24/24 [==============================] - 0s 5ms/step - loss: 0.0000e+00 - accuracy: 0.4110 - val_loss: 0.0000e+00 - val_accuracy: 0.4915\n",
      "Epoch 21/150\n",
      "24/24 [==============================] - 0s 5ms/step - loss: 0.0000e+00 - accuracy: 0.4110 - val_loss: 0.0000e+00 - val_accuracy: 0.4915\n",
      "Epoch 22/150\n",
      "24/24 [==============================] - 0s 6ms/step - loss: 0.0000e+00 - accuracy: 0.4110 - val_loss: 0.0000e+00 - val_accuracy: 0.4915\n",
      "Epoch 23/150\n",
      "24/24 [==============================] - 0s 5ms/step - loss: 0.0000e+00 - accuracy: 0.4110 - val_loss: 0.0000e+00 - val_accuracy: 0.4915\n",
      "Epoch 24/150\n",
      "24/24 [==============================] - 0s 6ms/step - loss: 0.0000e+00 - accuracy: 0.4110 - val_loss: 0.0000e+00 - val_accuracy: 0.4915\n",
      "Epoch 25/150\n",
      "24/24 [==============================] - 0s 5ms/step - loss: 0.0000e+00 - accuracy: 0.4110 - val_loss: 0.0000e+00 - val_accuracy: 0.4915\n",
      "Epoch 26/150\n",
      "24/24 [==============================] - 0s 5ms/step - loss: 0.0000e+00 - accuracy: 0.4110 - val_loss: 0.0000e+00 - val_accuracy: 0.4915\n",
      "Epoch 27/150\n",
      "24/24 [==============================] - 0s 4ms/step - loss: 0.0000e+00 - accuracy: 0.4110 - val_loss: 0.0000e+00 - val_accuracy: 0.4915\n",
      "Epoch 28/150\n",
      "24/24 [==============================] - 0s 5ms/step - loss: 0.0000e+00 - accuracy: 0.4110 - val_loss: 0.0000e+00 - val_accuracy: 0.4915\n",
      "Epoch 29/150\n",
      "24/24 [==============================] - 0s 4ms/step - loss: 0.0000e+00 - accuracy: 0.4110 - val_loss: 0.0000e+00 - val_accuracy: 0.4915\n",
      "Epoch 30/150\n",
      "24/24 [==============================] - 0s 5ms/step - loss: 0.0000e+00 - accuracy: 0.4110 - val_loss: 0.0000e+00 - val_accuracy: 0.4915\n",
      "Epoch 31/150\n",
      "24/24 [==============================] - 0s 4ms/step - loss: 0.0000e+00 - accuracy: 0.4110 - val_loss: 0.0000e+00 - val_accuracy: 0.4915\n",
      "Epoch 32/150\n",
      "24/24 [==============================] - 0s 4ms/step - loss: 0.0000e+00 - accuracy: 0.4110 - val_loss: 0.0000e+00 - val_accuracy: 0.4915\n",
      "Epoch 33/150\n",
      "24/24 [==============================] - 0s 4ms/step - loss: 0.0000e+00 - accuracy: 0.4110 - val_loss: 0.0000e+00 - val_accuracy: 0.4915\n",
      "Epoch 34/150\n",
      "24/24 [==============================] - 0s 5ms/step - loss: 0.0000e+00 - accuracy: 0.4110 - val_loss: 0.0000e+00 - val_accuracy: 0.4915\n",
      "Epoch 35/150\n",
      "24/24 [==============================] - 0s 5ms/step - loss: 0.0000e+00 - accuracy: 0.4110 - val_loss: 0.0000e+00 - val_accuracy: 0.4915\n",
      "Epoch 36/150\n",
      "24/24 [==============================] - 0s 4ms/step - loss: 0.0000e+00 - accuracy: 0.4110 - val_loss: 0.0000e+00 - val_accuracy: 0.4915\n",
      "Epoch 37/150\n",
      "24/24 [==============================] - 0s 4ms/step - loss: 0.0000e+00 - accuracy: 0.4110 - val_loss: 0.0000e+00 - val_accuracy: 0.4915\n",
      "Epoch 38/150\n",
      "24/24 [==============================] - 0s 4ms/step - loss: 0.0000e+00 - accuracy: 0.4110 - val_loss: 0.0000e+00 - val_accuracy: 0.4915\n",
      "Epoch 39/150\n",
      "24/24 [==============================] - 0s 5ms/step - loss: 0.0000e+00 - accuracy: 0.4110 - val_loss: 0.0000e+00 - val_accuracy: 0.4915\n",
      "Epoch 40/150\n",
      "24/24 [==============================] - 0s 7ms/step - loss: 0.0000e+00 - accuracy: 0.4110 - val_loss: 0.0000e+00 - val_accuracy: 0.4915\n",
      "Epoch 41/150\n",
      "24/24 [==============================] - 0s 6ms/step - loss: 0.0000e+00 - accuracy: 0.4110 - val_loss: 0.0000e+00 - val_accuracy: 0.4915\n",
      "Epoch 42/150\n",
      "24/24 [==============================] - 0s 6ms/step - loss: 0.0000e+00 - accuracy: 0.4110 - val_loss: 0.0000e+00 - val_accuracy: 0.4915\n",
      "Epoch 43/150\n",
      "24/24 [==============================] - 0s 7ms/step - loss: 0.0000e+00 - accuracy: 0.4110 - val_loss: 0.0000e+00 - val_accuracy: 0.4915\n",
      "Epoch 44/150\n",
      "24/24 [==============================] - 0s 5ms/step - loss: 0.0000e+00 - accuracy: 0.4110 - val_loss: 0.0000e+00 - val_accuracy: 0.4915\n",
      "Epoch 45/150\n",
      "24/24 [==============================] - 0s 5ms/step - loss: 0.0000e+00 - accuracy: 0.4110 - val_loss: 0.0000e+00 - val_accuracy: 0.4915\n",
      "Epoch 46/150\n",
      "24/24 [==============================] - 0s 7ms/step - loss: 0.0000e+00 - accuracy: 0.4110 - val_loss: 0.0000e+00 - val_accuracy: 0.4915\n",
      "Epoch 47/150\n",
      "24/24 [==============================] - 0s 5ms/step - loss: 0.0000e+00 - accuracy: 0.4110 - val_loss: 0.0000e+00 - val_accuracy: 0.4915\n",
      "Epoch 48/150\n",
      "24/24 [==============================] - 0s 6ms/step - loss: 0.0000e+00 - accuracy: 0.4110 - val_loss: 0.0000e+00 - val_accuracy: 0.4915\n",
      "Epoch 49/150\n",
      "24/24 [==============================] - 0s 6ms/step - loss: 0.0000e+00 - accuracy: 0.4110 - val_loss: 0.0000e+00 - val_accuracy: 0.4915\n",
      "Epoch 50/150\n",
      "24/24 [==============================] - 0s 6ms/step - loss: 0.0000e+00 - accuracy: 0.4110 - val_loss: 0.0000e+00 - val_accuracy: 0.4915\n",
      "Epoch 51/150\n",
      "24/24 [==============================] - 0s 5ms/step - loss: 0.0000e+00 - accuracy: 0.4110 - val_loss: 0.0000e+00 - val_accuracy: 0.4915\n",
      "Epoch 52/150\n",
      "24/24 [==============================] - 0s 6ms/step - loss: 0.0000e+00 - accuracy: 0.4110 - val_loss: 0.0000e+00 - val_accuracy: 0.4915\n",
      "Epoch 53/150\n",
      "24/24 [==============================] - 0s 5ms/step - loss: 0.0000e+00 - accuracy: 0.4110 - val_loss: 0.0000e+00 - val_accuracy: 0.4915\n",
      "Epoch 54/150\n",
      "24/24 [==============================] - 0s 6ms/step - loss: 0.0000e+00 - accuracy: 0.4110 - val_loss: 0.0000e+00 - val_accuracy: 0.4915\n",
      "Epoch 55/150\n",
      "24/24 [==============================] - 0s 5ms/step - loss: 0.0000e+00 - accuracy: 0.4110 - val_loss: 0.0000e+00 - val_accuracy: 0.4915\n",
      "Epoch 56/150\n",
      "24/24 [==============================] - 0s 10ms/step - loss: 0.0000e+00 - accuracy: 0.4110 - val_loss: 0.0000e+00 - val_accuracy: 0.4915\n",
      "Epoch 57/150\n",
      "24/24 [==============================] - 0s 6ms/step - loss: 0.0000e+00 - accuracy: 0.4110 - val_loss: 0.0000e+00 - val_accuracy: 0.4915\n",
      "Epoch 58/150\n",
      "24/24 [==============================] - 0s 5ms/step - loss: 0.0000e+00 - accuracy: 0.4110 - val_loss: 0.0000e+00 - val_accuracy: 0.4915\n",
      "Epoch 59/150\n",
      "24/24 [==============================] - 0s 5ms/step - loss: 0.0000e+00 - accuracy: 0.4110 - val_loss: 0.0000e+00 - val_accuracy: 0.4915\n",
      "Epoch 60/150\n",
      "24/24 [==============================] - 0s 5ms/step - loss: 0.0000e+00 - accuracy: 0.4110 - val_loss: 0.0000e+00 - val_accuracy: 0.4915\n",
      "Epoch 61/150\n",
      "24/24 [==============================] - 0s 5ms/step - loss: 0.0000e+00 - accuracy: 0.4110 - val_loss: 0.0000e+00 - val_accuracy: 0.4915\n",
      "Epoch 62/150\n",
      "24/24 [==============================] - 0s 5ms/step - loss: 0.0000e+00 - accuracy: 0.4110 - val_loss: 0.0000e+00 - val_accuracy: 0.4915\n",
      "Epoch 63/150\n",
      "24/24 [==============================] - 0s 5ms/step - loss: 0.0000e+00 - accuracy: 0.4110 - val_loss: 0.0000e+00 - val_accuracy: 0.4915\n",
      "Epoch 64/150\n",
      "24/24 [==============================] - 0s 8ms/step - loss: 0.0000e+00 - accuracy: 0.4110 - val_loss: 0.0000e+00 - val_accuracy: 0.4915\n",
      "Epoch 65/150\n",
      "24/24 [==============================] - 0s 6ms/step - loss: 0.0000e+00 - accuracy: 0.4110 - val_loss: 0.0000e+00 - val_accuracy: 0.4915\n",
      "Epoch 66/150\n",
      "24/24 [==============================] - 0s 6ms/step - loss: 0.0000e+00 - accuracy: 0.4110 - val_loss: 0.0000e+00 - val_accuracy: 0.4915\n",
      "Epoch 67/150\n",
      "24/24 [==============================] - 0s 5ms/step - loss: 0.0000e+00 - accuracy: 0.4110 - val_loss: 0.0000e+00 - val_accuracy: 0.4915\n",
      "Epoch 68/150\n",
      "24/24 [==============================] - 0s 5ms/step - loss: 0.0000e+00 - accuracy: 0.4110 - val_loss: 0.0000e+00 - val_accuracy: 0.4915\n",
      "Epoch 69/150\n",
      "24/24 [==============================] - 0s 5ms/step - loss: 0.0000e+00 - accuracy: 0.4110 - val_loss: 0.0000e+00 - val_accuracy: 0.4915\n",
      "Epoch 70/150\n",
      "24/24 [==============================] - 0s 5ms/step - loss: 0.0000e+00 - accuracy: 0.4110 - val_loss: 0.0000e+00 - val_accuracy: 0.4915\n",
      "Epoch 71/150\n",
      "24/24 [==============================] - 0s 6ms/step - loss: 0.0000e+00 - accuracy: 0.4110 - val_loss: 0.0000e+00 - val_accuracy: 0.4915\n",
      "Epoch 72/150\n",
      "24/24 [==============================] - 0s 6ms/step - loss: 0.0000e+00 - accuracy: 0.4110 - val_loss: 0.0000e+00 - val_accuracy: 0.4915\n",
      "Epoch 73/150\n",
      "24/24 [==============================] - 0s 6ms/step - loss: 0.0000e+00 - accuracy: 0.4110 - val_loss: 0.0000e+00 - val_accuracy: 0.4915\n",
      "Epoch 74/150\n",
      "24/24 [==============================] - 0s 6ms/step - loss: 0.0000e+00 - accuracy: 0.4110 - val_loss: 0.0000e+00 - val_accuracy: 0.4915\n",
      "Epoch 75/150\n",
      "24/24 [==============================] - 0s 5ms/step - loss: 0.0000e+00 - accuracy: 0.4110 - val_loss: 0.0000e+00 - val_accuracy: 0.4915\n",
      "Epoch 76/150\n",
      "24/24 [==============================] - 0s 6ms/step - loss: 0.0000e+00 - accuracy: 0.4110 - val_loss: 0.0000e+00 - val_accuracy: 0.4915\n",
      "Epoch 77/150\n",
      "24/24 [==============================] - 0s 5ms/step - loss: 0.0000e+00 - accuracy: 0.4110 - val_loss: 0.0000e+00 - val_accuracy: 0.4915\n",
      "Epoch 78/150\n",
      "24/24 [==============================] - 0s 5ms/step - loss: 0.0000e+00 - accuracy: 0.4110 - val_loss: 0.0000e+00 - val_accuracy: 0.4915\n",
      "Epoch 79/150\n",
      "24/24 [==============================] - 0s 6ms/step - loss: 0.0000e+00 - accuracy: 0.4110 - val_loss: 0.0000e+00 - val_accuracy: 0.4915\n",
      "Epoch 80/150\n",
      "24/24 [==============================] - 0s 6ms/step - loss: 0.0000e+00 - accuracy: 0.4110 - val_loss: 0.0000e+00 - val_accuracy: 0.4915\n",
      "Epoch 81/150\n",
      "24/24 [==============================] - 0s 5ms/step - loss: 0.0000e+00 - accuracy: 0.4110 - val_loss: 0.0000e+00 - val_accuracy: 0.4915\n",
      "Epoch 82/150\n",
      "24/24 [==============================] - 0s 5ms/step - loss: 0.0000e+00 - accuracy: 0.4110 - val_loss: 0.0000e+00 - val_accuracy: 0.4915\n",
      "Epoch 83/150\n",
      "24/24 [==============================] - 0s 5ms/step - loss: 0.0000e+00 - accuracy: 0.4110 - val_loss: 0.0000e+00 - val_accuracy: 0.4915\n",
      "Epoch 84/150\n",
      "24/24 [==============================] - 0s 5ms/step - loss: 0.0000e+00 - accuracy: 0.4110 - val_loss: 0.0000e+00 - val_accuracy: 0.4915\n",
      "Epoch 85/150\n",
      "24/24 [==============================] - 0s 5ms/step - loss: 0.0000e+00 - accuracy: 0.4110 - val_loss: 0.0000e+00 - val_accuracy: 0.4915\n",
      "Epoch 86/150\n",
      "24/24 [==============================] - 0s 5ms/step - loss: 0.0000e+00 - accuracy: 0.4110 - val_loss: 0.0000e+00 - val_accuracy: 0.4915\n",
      "Epoch 87/150\n",
      "24/24 [==============================] - 0s 6ms/step - loss: 0.0000e+00 - accuracy: 0.4110 - val_loss: 0.0000e+00 - val_accuracy: 0.4915\n",
      "Epoch 88/150\n",
      "24/24 [==============================] - 0s 5ms/step - loss: 0.0000e+00 - accuracy: 0.4110 - val_loss: 0.0000e+00 - val_accuracy: 0.4915\n",
      "Epoch 89/150\n",
      "24/24 [==============================] - 0s 5ms/step - loss: 0.0000e+00 - accuracy: 0.4110 - val_loss: 0.0000e+00 - val_accuracy: 0.4915\n",
      "Epoch 90/150\n",
      "24/24 [==============================] - 0s 5ms/step - loss: 0.0000e+00 - accuracy: 0.4110 - val_loss: 0.0000e+00 - val_accuracy: 0.4915\n",
      "Epoch 91/150\n",
      "24/24 [==============================] - 0s 5ms/step - loss: 0.0000e+00 - accuracy: 0.4110 - val_loss: 0.0000e+00 - val_accuracy: 0.4915\n",
      "Epoch 92/150\n",
      "24/24 [==============================] - 0s 5ms/step - loss: 0.0000e+00 - accuracy: 0.4110 - val_loss: 0.0000e+00 - val_accuracy: 0.4915\n",
      "Epoch 93/150\n",
      "24/24 [==============================] - 0s 5ms/step - loss: 0.0000e+00 - accuracy: 0.4110 - val_loss: 0.0000e+00 - val_accuracy: 0.4915\n",
      "Epoch 94/150\n",
      "24/24 [==============================] - 0s 5ms/step - loss: 0.0000e+00 - accuracy: 0.4110 - val_loss: 0.0000e+00 - val_accuracy: 0.4915\n",
      "Epoch 95/150\n",
      "24/24 [==============================] - 0s 5ms/step - loss: 0.0000e+00 - accuracy: 0.4110 - val_loss: 0.0000e+00 - val_accuracy: 0.4915\n",
      "Epoch 96/150\n",
      "24/24 [==============================] - 0s 5ms/step - loss: 0.0000e+00 - accuracy: 0.4110 - val_loss: 0.0000e+00 - val_accuracy: 0.4915\n",
      "Epoch 97/150\n",
      "24/24 [==============================] - 0s 4ms/step - loss: 0.0000e+00 - accuracy: 0.4110 - val_loss: 0.0000e+00 - val_accuracy: 0.4915\n",
      "Epoch 98/150\n",
      "24/24 [==============================] - 0s 5ms/step - loss: 0.0000e+00 - accuracy: 0.4110 - val_loss: 0.0000e+00 - val_accuracy: 0.4915\n",
      "Epoch 99/150\n",
      "24/24 [==============================] - 0s 5ms/step - loss: 0.0000e+00 - accuracy: 0.4110 - val_loss: 0.0000e+00 - val_accuracy: 0.4915\n",
      "Epoch 100/150\n",
      "24/24 [==============================] - 0s 5ms/step - loss: 0.0000e+00 - accuracy: 0.4110 - val_loss: 0.0000e+00 - val_accuracy: 0.4915\n",
      "Epoch 101/150\n",
      "24/24 [==============================] - 0s 6ms/step - loss: 0.0000e+00 - accuracy: 0.4110 - val_loss: 0.0000e+00 - val_accuracy: 0.4915\n",
      "Epoch 102/150\n",
      "24/24 [==============================] - 0s 6ms/step - loss: 0.0000e+00 - accuracy: 0.4110 - val_loss: 0.0000e+00 - val_accuracy: 0.4915\n",
      "Epoch 103/150\n",
      "24/24 [==============================] - 0s 5ms/step - loss: 0.0000e+00 - accuracy: 0.4110 - val_loss: 0.0000e+00 - val_accuracy: 0.4915\n",
      "Epoch 104/150\n",
      "24/24 [==============================] - 0s 5ms/step - loss: 0.0000e+00 - accuracy: 0.4110 - val_loss: 0.0000e+00 - val_accuracy: 0.4915\n",
      "Epoch 105/150\n",
      "24/24 [==============================] - 0s 5ms/step - loss: 0.0000e+00 - accuracy: 0.4110 - val_loss: 0.0000e+00 - val_accuracy: 0.4915\n",
      "Epoch 106/150\n",
      "24/24 [==============================] - 0s 5ms/step - loss: 0.0000e+00 - accuracy: 0.4110 - val_loss: 0.0000e+00 - val_accuracy: 0.4915\n",
      "Epoch 107/150\n",
      "24/24 [==============================] - 0s 5ms/step - loss: 0.0000e+00 - accuracy: 0.4110 - val_loss: 0.0000e+00 - val_accuracy: 0.4915\n",
      "Epoch 108/150\n",
      "24/24 [==============================] - 0s 5ms/step - loss: 0.0000e+00 - accuracy: 0.4110 - val_loss: 0.0000e+00 - val_accuracy: 0.4915\n",
      "Epoch 109/150\n",
      "24/24 [==============================] - 0s 5ms/step - loss: 0.0000e+00 - accuracy: 0.4110 - val_loss: 0.0000e+00 - val_accuracy: 0.4915\n",
      "Epoch 110/150\n",
      "24/24 [==============================] - 0s 5ms/step - loss: 0.0000e+00 - accuracy: 0.4110 - val_loss: 0.0000e+00 - val_accuracy: 0.4915\n",
      "Epoch 111/150\n",
      "24/24 [==============================] - 0s 6ms/step - loss: 0.0000e+00 - accuracy: 0.4110 - val_loss: 0.0000e+00 - val_accuracy: 0.4915\n",
      "Epoch 112/150\n",
      "24/24 [==============================] - 0s 6ms/step - loss: 0.0000e+00 - accuracy: 0.4110 - val_loss: 0.0000e+00 - val_accuracy: 0.4915\n",
      "Epoch 113/150\n",
      "24/24 [==============================] - 0s 5ms/step - loss: 0.0000e+00 - accuracy: 0.4110 - val_loss: 0.0000e+00 - val_accuracy: 0.4915\n",
      "Epoch 114/150\n",
      "24/24 [==============================] - 0s 5ms/step - loss: 0.0000e+00 - accuracy: 0.4110 - val_loss: 0.0000e+00 - val_accuracy: 0.4915\n",
      "Epoch 115/150\n",
      "24/24 [==============================] - 0s 5ms/step - loss: 0.0000e+00 - accuracy: 0.4110 - val_loss: 0.0000e+00 - val_accuracy: 0.4915\n",
      "Epoch 116/150\n",
      "24/24 [==============================] - 0s 6ms/step - loss: 0.0000e+00 - accuracy: 0.4110 - val_loss: 0.0000e+00 - val_accuracy: 0.4915\n",
      "Epoch 117/150\n",
      "24/24 [==============================] - 0s 6ms/step - loss: 0.0000e+00 - accuracy: 0.4110 - val_loss: 0.0000e+00 - val_accuracy: 0.4915\n",
      "Epoch 118/150\n",
      "24/24 [==============================] - 0s 7ms/step - loss: 0.0000e+00 - accuracy: 0.4110 - val_loss: 0.0000e+00 - val_accuracy: 0.4915\n",
      "Epoch 119/150\n",
      "24/24 [==============================] - 0s 7ms/step - loss: 0.0000e+00 - accuracy: 0.4110 - val_loss: 0.0000e+00 - val_accuracy: 0.4915\n",
      "Epoch 120/150\n",
      "24/24 [==============================] - 0s 6ms/step - loss: 0.0000e+00 - accuracy: 0.4110 - val_loss: 0.0000e+00 - val_accuracy: 0.4915\n",
      "Epoch 121/150\n",
      "24/24 [==============================] - 0s 7ms/step - loss: 0.0000e+00 - accuracy: 0.4110 - val_loss: 0.0000e+00 - val_accuracy: 0.4915\n",
      "Epoch 122/150\n",
      "24/24 [==============================] - 0s 6ms/step - loss: 0.0000e+00 - accuracy: 0.4110 - val_loss: 0.0000e+00 - val_accuracy: 0.4915\n",
      "Epoch 123/150\n",
      "24/24 [==============================] - 0s 12ms/step - loss: 0.0000e+00 - accuracy: 0.4110 - val_loss: 0.0000e+00 - val_accuracy: 0.4915\n",
      "Epoch 124/150\n",
      "24/24 [==============================] - 0s 6ms/step - loss: 0.0000e+00 - accuracy: 0.4110 - val_loss: 0.0000e+00 - val_accuracy: 0.4915\n",
      "Epoch 125/150\n",
      "24/24 [==============================] - 0s 8ms/step - loss: 0.0000e+00 - accuracy: 0.4110 - val_loss: 0.0000e+00 - val_accuracy: 0.4915\n",
      "Epoch 126/150\n",
      "24/24 [==============================] - 0s 6ms/step - loss: 0.0000e+00 - accuracy: 0.4110 - val_loss: 0.0000e+00 - val_accuracy: 0.4915\n",
      "Epoch 127/150\n",
      "24/24 [==============================] - 0s 6ms/step - loss: 0.0000e+00 - accuracy: 0.4110 - val_loss: 0.0000e+00 - val_accuracy: 0.4915\n",
      "Epoch 128/150\n",
      "24/24 [==============================] - 0s 6ms/step - loss: 0.0000e+00 - accuracy: 0.4110 - val_loss: 0.0000e+00 - val_accuracy: 0.4915\n",
      "Epoch 129/150\n",
      "24/24 [==============================] - 0s 6ms/step - loss: 0.0000e+00 - accuracy: 0.4110 - val_loss: 0.0000e+00 - val_accuracy: 0.4915\n",
      "Epoch 130/150\n",
      "24/24 [==============================] - 0s 5ms/step - loss: 0.0000e+00 - accuracy: 0.4110 - val_loss: 0.0000e+00 - val_accuracy: 0.4915\n",
      "Epoch 131/150\n",
      "24/24 [==============================] - 0s 6ms/step - loss: 0.0000e+00 - accuracy: 0.4110 - val_loss: 0.0000e+00 - val_accuracy: 0.4915\n",
      "Epoch 132/150\n",
      "24/24 [==============================] - 0s 5ms/step - loss: 0.0000e+00 - accuracy: 0.4110 - val_loss: 0.0000e+00 - val_accuracy: 0.4915\n",
      "Epoch 133/150\n",
      "24/24 [==============================] - 0s 5ms/step - loss: 0.0000e+00 - accuracy: 0.4110 - val_loss: 0.0000e+00 - val_accuracy: 0.4915\n",
      "Epoch 134/150\n",
      "24/24 [==============================] - 0s 5ms/step - loss: 0.0000e+00 - accuracy: 0.4110 - val_loss: 0.0000e+00 - val_accuracy: 0.4915\n",
      "Epoch 135/150\n",
      "24/24 [==============================] - 0s 5ms/step - loss: 0.0000e+00 - accuracy: 0.4110 - val_loss: 0.0000e+00 - val_accuracy: 0.4915\n",
      "Epoch 136/150\n",
      "24/24 [==============================] - 0s 5ms/step - loss: 0.0000e+00 - accuracy: 0.4110 - val_loss: 0.0000e+00 - val_accuracy: 0.4915\n",
      "Epoch 137/150\n",
      "24/24 [==============================] - 0s 5ms/step - loss: 0.0000e+00 - accuracy: 0.4110 - val_loss: 0.0000e+00 - val_accuracy: 0.4915\n",
      "Epoch 138/150\n",
      "24/24 [==============================] - 0s 5ms/step - loss: 0.0000e+00 - accuracy: 0.4110 - val_loss: 0.0000e+00 - val_accuracy: 0.4915\n",
      "Epoch 139/150\n",
      "24/24 [==============================] - 0s 5ms/step - loss: 0.0000e+00 - accuracy: 0.4110 - val_loss: 0.0000e+00 - val_accuracy: 0.4915\n",
      "Epoch 140/150\n",
      "24/24 [==============================] - 0s 5ms/step - loss: 0.0000e+00 - accuracy: 0.4110 - val_loss: 0.0000e+00 - val_accuracy: 0.4915\n",
      "Epoch 141/150\n",
      "24/24 [==============================] - 0s 5ms/step - loss: 0.0000e+00 - accuracy: 0.4110 - val_loss: 0.0000e+00 - val_accuracy: 0.4915\n",
      "Epoch 142/150\n",
      "24/24 [==============================] - 0s 6ms/step - loss: 0.0000e+00 - accuracy: 0.4110 - val_loss: 0.0000e+00 - val_accuracy: 0.4915\n",
      "Epoch 143/150\n",
      "24/24 [==============================] - 0s 6ms/step - loss: 0.0000e+00 - accuracy: 0.4110 - val_loss: 0.0000e+00 - val_accuracy: 0.4915\n",
      "Epoch 144/150\n",
      "24/24 [==============================] - 0s 5ms/step - loss: 0.0000e+00 - accuracy: 0.4110 - val_loss: 0.0000e+00 - val_accuracy: 0.4915\n",
      "Epoch 145/150\n",
      "24/24 [==============================] - 0s 5ms/step - loss: 0.0000e+00 - accuracy: 0.4110 - val_loss: 0.0000e+00 - val_accuracy: 0.4915\n",
      "Epoch 146/150\n",
      "24/24 [==============================] - 0s 5ms/step - loss: 0.0000e+00 - accuracy: 0.4110 - val_loss: 0.0000e+00 - val_accuracy: 0.4915\n",
      "Epoch 147/150\n",
      "24/24 [==============================] - 0s 5ms/step - loss: 0.0000e+00 - accuracy: 0.4110 - val_loss: 0.0000e+00 - val_accuracy: 0.4915\n",
      "Epoch 148/150\n",
      "24/24 [==============================] - 0s 6ms/step - loss: 0.0000e+00 - accuracy: 0.4110 - val_loss: 0.0000e+00 - val_accuracy: 0.4915\n",
      "Epoch 149/150\n",
      "24/24 [==============================] - 0s 6ms/step - loss: 0.0000e+00 - accuracy: 0.4110 - val_loss: 0.0000e+00 - val_accuracy: 0.4915\n",
      "Epoch 150/150\n",
      "24/24 [==============================] - 0s 6ms/step - loss: 0.0000e+00 - accuracy: 0.4110 - val_loss: 0.0000e+00 - val_accuracy: 0.4915\n"
     ]
    }
   ],
   "source": [
    "history = model.fit(X_train, y_train, validation_split=0.2, epochs=150, batch_size=10)"
   ],
   "metadata": {
    "collapsed": false
   }
  },
  {
   "cell_type": "code",
   "execution_count": 26,
   "outputs": [
    {
     "name": "stdout",
     "output_type": "stream",
     "text": [
      "dict_keys(['loss', 'accuracy', 'val_loss', 'val_accuracy'])\n"
     ]
    },
    {
     "data": {
      "text/plain": "<Figure size 640x480 with 1 Axes>",
      "image/png": "[encoded data removed]"
     },
     "metadata": {},
     "output_type": "display_data"
    },
    {
     "data": {
      "text/plain": "<Figure size 640x480 with 1 Axes>",
      "image/png": "[encoded data removed]"
     },
     "metadata": {},
     "output_type": "display_data"
    }
   ],
   "source": [
    "# list all data in history\n",
    "print(history.history.keys())\n",
    "# summarize history for accuracy\n",
    "plt.plot(history.history['accuracy'])\n",
    "plt.plot(history.history['val_accuracy'])\n",
    "plt.title('model accuracy')\n",
    "plt.ylabel('accuracy')\n",
    "plt.xlabel('epoch')\n",
    "plt.legend(['train', 'test'], loc='upper left')\n",
    "plt.show()\n",
    "# summarize history for loss\n",
    "plt.plot(history.history['loss'])\n",
    "plt.plot(history.history['val_loss'])\n",
    "plt.title('model loss')\n",
    "plt.ylabel('loss')\n",
    "plt.xlabel('epoch')\n",
    "plt.legend(['train', 'test'], loc='upper left')\n",
    "plt.show()"
   ],
   "metadata": {
    "collapsed": false
   }
  },
  {
   "cell_type": "code",
   "execution_count": 53,
   "outputs": [
    {
     "data": {
      "text/plain": "[\"Media exposure_Wife's education\",\n \"Wife's working?_Wife's education\",\n 'Religion']"
     },
     "execution_count": 53,
     "metadata": {},
     "output_type": "execute_result"
    }
   ],
   "source": [
    "encoders = dict()\n",
    "# cross each set of columns in the list above\n",
    "cross_col_df_names = []\n",
    "for cols_list in cross_columns:\n",
    "    # encode as ints for the embedding\n",
    "    enc = LabelEncoder()\n",
    "\n",
    "    # 1. create crossed labels by join operation\n",
    "    X_crossed_train = X_train[cols_list].apply(lambda x: '_'.join(str(x)), axis=1)\n",
    "    X_crossed_test = X_test[cols_list].apply(lambda x: '_'.join(str(x)), axis=1)\n",
    "\n",
    "    # get a nice name for this new crossed column\n",
    "    cross_col_name = '_'.join(cols_list)\n",
    "\n",
    "    # 2. encode as integers, stacking all possibilities\n",
    "    enc.fit(np.hstack((X_crossed_train.to_numpy(),  X_crossed_test.to_numpy())))\n",
    "\n",
    "    # 3. Save into dataframe with new name\n",
    "    X_train[cross_col_name] = enc.transform(X_crossed_train)\n",
    "    X_test[cross_col_name] = enc.transform(X_crossed_test)\n",
    "\n",
    "    # Save the encoder used here for later:\n",
    "    encoders[cross_col_name] = enc\n",
    "\n",
    "    # keep track of the new names of the crossed columns\n",
    "    cross_col_df_names.append(cross_col_name)\n",
    "\n",
    "cross_col_df_names"
   ],
   "metadata": {
    "collapsed": false
   }
  },
  {
   "cell_type": "code",
   "execution_count": 58,
   "outputs": [
    {
     "name": "stdout",
     "output_type": "stream",
     "text": [
      "Epoch 1/10\n",
      "37/37 [==============================] - 2s 5ms/step - loss: 2.6983 - accuracy: 0.4075\n",
      "Epoch 2/10\n",
      "37/37 [==============================] - 0s 4ms/step - loss: 2.5331 - accuracy: 0.4270\n",
      "Epoch 3/10\n",
      "37/37 [==============================] - 0s 4ms/step - loss: 2.3935 - accuracy: 0.4270\n",
      "Epoch 4/10\n",
      "37/37 [==============================] - 0s 4ms/step - loss: 2.2792 - accuracy: 0.4270\n",
      "Epoch 5/10\n",
      "37/37 [==============================] - 0s 4ms/step - loss: 2.1873 - accuracy: 0.4270\n",
      "Epoch 6/10\n",
      "37/37 [==============================] - 0s 4ms/step - loss: 2.1132 - accuracy: 0.4270\n",
      "Epoch 7/10\n",
      "37/37 [==============================] - 0s 4ms/step - loss: 2.0533 - accuracy: 0.4270\n",
      "Epoch 8/10\n",
      "37/37 [==============================] - 0s 4ms/step - loss: 2.0044 - accuracy: 0.4270\n",
      "Epoch 9/10\n",
      "37/37 [==============================] - 0s 4ms/step - loss: 1.9642 - accuracy: 0.4270\n",
      "Epoch 10/10\n",
      "37/37 [==============================] - 0s 4ms/step - loss: 1.9307 - accuracy: 0.4270\n"
     ]
    },
    {
     "data": {
      "text/plain": "<keras.callbacks.History at 0x1fa90e7fb20>"
     },
     "execution_count": 58,
     "metadata": {},
     "output_type": "execute_result"
    }
   ],
   "source": [
    "# Train a model only using crossed values\n",
    "# get crossed columns\n",
    "X_train_crossed = X_train[cross_col_df_names].to_numpy()\n",
    "X_test_crossed = X_test[cross_col_df_names].to_numpy()\n",
    "\n",
    "crossed_outputs = [] # this is where we will keep track of output of each branch\n",
    "\n",
    "input_crossed = Input(shape=(X_train_crossed.shape[1],), dtype='int64', name='categorical')\n",
    "for idx,col in enumerate(cross_col_df_names):\n",
    "\n",
    "    # track what the maximum integer value will be for this variable\n",
    "    # which is the same as the number of categories\n",
    "    N = max(X_train[col].max(),X_test[col].max())+1\n",
    "    N = len(encoders[col].classes_)\n",
    "    N_reduced = int(np.sqrt(N))\n",
    "\n",
    "    # this line of code does this: input_branch[:,idx]\n",
    "    x = tf.gather(input_crossed, idx, axis=1)\n",
    "\n",
    "    # now use an embedding to deal with integers as if they were one hot encoded\n",
    "    x = Embedding(input_dim=N,\n",
    "                  output_dim=N_reduced,\n",
    "                  input_length=1)(x)\n",
    "\n",
    "    # save these outputs to concatenate later\n",
    "    crossed_outputs.append(x)\n",
    "\n",
    "\n",
    "# now concatenate the outputs and add a fully connected layer\n",
    "wide_branch = concatenate(crossed_outputs, name='concat_1')\n",
    "wide_branch = Dense(units=1,activation='sigmoid', name='combined')(wide_branch)\n",
    "\n",
    "model = Model(inputs=input_crossed, outputs=wide_branch)\n",
    "\n",
    "model.compile(optimizer='sgd',\n",
    "              loss='mean_squared_error',\n",
    "              metrics=['accuracy'])\n",
    "\n",
    "model.fit(X_train_crossed,\n",
    "        y_train, epochs=10, batch_size=32, verbose=1)"
   ],
   "metadata": {
    "collapsed": false
   }
  }
 ],
 "metadata": {
  "kernelspec": {
   "display_name": "Python 3 (ipykernel)",
   "language": "python",
   "name": "python3"
  },
  "language_info": {
   "codemirror_mode": {
    "name": "ipython",
    "version": 3
   },
   "file_extension": ".py",
   "mimetype": "text/x-python",
   "name": "python",
   "nbconvert_exporter": "python",
   "pygments_lexer": "ipython3",
   "version": "3.9.13"
  },
  "vscode": {
   "interpreter": {
    "hash": "b0fa6594d8f4cbf19f97940f81e996739fb7646882a419484c72d19e05852a7e"
   }
  }
 },
 "nbformat": 4,
 "nbformat_minor": 5
}
