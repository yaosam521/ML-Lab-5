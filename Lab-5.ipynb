{
 "cells": [
  {
   "cell_type": "markdown",
   "id": "561be994-6066-411d-82d5-8e41eb666298",
   "metadata": {},
   "source": [
    "<h1> Wide and Deep Networks</h1>\n",
    "Authors: Sam Yao, Rebecca Kuhlman, Michael Amberg\n",
    "\n",
    "\n",
    "### Wide and Deep Putin\n",
    "![Wide and Deep Putin](https://i.kym-cdn.com/entries/icons/original/000/034/246/Untitled.png)\n",
    "\n",
    "## Task 1: Find a Dataset (Similar to Lab 1)\n",
    "- Select a dataset similarly to lab one. That is, the dataset must be table data. \n",
    "- it is helpful to have a large dataset for building a wide and deep network. \n",
    "- It is also helpful to have many different categorical features to create the embeddings and cross-product embeddings. \n",
    "- It is fine to perform binary classification, multi-class classification, or regression.\n",
    "\n",
    "\n",
    "Ideas for Datasets:\n",
    "- https://www.kaggle.com/datasets/jessicali9530/animal-crossing-new-horizons-nookplaza-dataset\n",
    "- https://www.kaggle.com/datasets/fivethirtyeight/fivethirtyeight-comic-characters-dataset\n",
    "- https://www.kaggle.com/datasets/dgomonov/new-york-city-airbnb-open-data\n",
    "- https://www.kaggle.com/datasets/fedesoriano/stroke-prediction-dataset\n"
   ]
  },
  {
   "cell_type": "markdown",
   "source": [
    "<h2>Data Preparation</h2>"
   ],
   "metadata": {
    "collapsed": false
   }
  },
  {
   "cell_type": "markdown",
   "id": "5afbd9fd-5a24-49ec-80b4-edaf1672994e",
   "metadata": {},
   "source": [
    "\n",
    "<h3>Defining and Cleaning Variables</h3>\n",
    "[1 points] Define and prepare your class variables. Use proper variable representations (int, float, one-hot, etc.). Use pre-processing methods (as needed) for dimensionality reduction, scaling, etc. Remove variables that are not needed/useful for the analysis. Describe the final dataset that is used for classification/regression (include a description of any newly formed variables you created). \n",
    "\n"
   ]
  },
  {
   "cell_type": "code",
   "execution_count": 1,
   "outputs": [
    {
     "name": "stdout",
     "output_type": "stream",
     "text": [
      "<class 'pandas.core.frame.DataFrame'>\n",
      "RangeIndex: 1473 entries, 0 to 1472\n",
      "Data columns (total 10 columns):\n",
      " #   Column                     Non-Null Count  Dtype\n",
      "---  ------                     --------------  -----\n",
      " 0   Wife's age                 1473 non-null   int64\n",
      " 1   Wife's education           1473 non-null   int64\n",
      " 2   Husband's education        1473 non-null   int64\n",
      " 3   Number of children         1473 non-null   int64\n",
      " 4   Religion                   1473 non-null   int64\n",
      " 5   Wife's working?            1473 non-null   int64\n",
      " 6   Husband's occupation       1473 non-null   int64\n",
      " 7   Standard-of-living index   1473 non-null   int64\n",
      " 8   Media exposure             1473 non-null   int64\n",
      " 9   Contraceptive method used  1473 non-null   int64\n",
      "dtypes: int64(10)\n",
      "memory usage: 115.2 KB\n",
      "None\n"
     ]
    }
   ],
   "source": [
    "import pandas as pd\n",
    "import numpy as np\n",
    "import matplotlib\n",
    "import seaborn as sns\n",
    "import matplotlib.pyplot as plt\n",
    "import warnings\n",
    "warnings.simplefilter('ignore', DeprecationWarning)\n",
    "\n",
    "df = pd.read_csv(\"https://archive.ics.uci.edu/ml/machine-learning-databases/cmc/cmc.data\",\n",
    "                 names=[\"Wife's age\",\"Wife's education\",\"Husband's education\",\n",
    "                        \"Number of children\",\"Religion\",\"Wife's working?\"\n",
    "                        ,\"Husband's occupation\",\"Standard-of-living index\",\"Media exposure\", \"Contraceptive method used\"])\n",
    "print(df.info())"
   ],
   "metadata": {
    "collapsed": false
   }
  },
  {
   "cell_type": "code",
   "execution_count": 2,
   "outputs": [
    {
     "name": "stdout",
     "output_type": "stream",
     "text": [
      "        Wife's age  Wife's education  Husband's education  Number of children  \\\n",
      "count  1473.000000       1473.000000          1473.000000         1473.000000   \n",
      "mean     32.538357          2.958588             3.429735            3.261371   \n",
      "std       8.227245          1.014994             0.816349            2.358549   \n",
      "min      16.000000          1.000000             1.000000            0.000000   \n",
      "25%      26.000000          2.000000             3.000000            1.000000   \n",
      "50%      32.000000          3.000000             4.000000            3.000000   \n",
      "75%      39.000000          4.000000             4.000000            4.000000   \n",
      "max      49.000000          4.000000             4.000000           16.000000   \n",
      "\n",
      "          Religion  Wife's working?  Husband's occupation  \\\n",
      "count  1473.000000      1473.000000           1473.000000   \n",
      "mean      0.850645         0.749491              2.137814   \n",
      "std       0.356559         0.433453              0.864857   \n",
      "min       0.000000         0.000000              1.000000   \n",
      "25%       1.000000         0.000000              1.000000   \n",
      "50%       1.000000         1.000000              2.000000   \n",
      "75%       1.000000         1.000000              3.000000   \n",
      "max       1.000000         1.000000              4.000000   \n",
      "\n",
      "       Standard-of-living index  Media exposure  Contraceptive method used  \n",
      "count               1473.000000     1473.000000                1473.000000  \n",
      "mean                   3.133741        0.073999                   1.919891  \n",
      "std                    0.976161        0.261858                   0.876376  \n",
      "min                    1.000000        0.000000                   1.000000  \n",
      "25%                    3.000000        0.000000                   1.000000  \n",
      "50%                    3.000000        0.000000                   2.000000  \n",
      "75%                    4.000000        0.000000                   3.000000  \n",
      "max                    4.000000        1.000000                   3.000000  \n"
     ]
    }
   ],
   "source": [
    "print(df.describe())"
   ],
   "metadata": {
    "collapsed": false
   }
  },
  {
   "cell_type": "markdown",
   "source": [
    "Attribute Information:\n",
    "\n",
    "   1. Wife's age                     (numerical) - INT\n",
    "   2. Wife's education               (categorical)      1=low, 2, 3, 4=high\n",
    "   3. Husband's education            (categorical)      1=low, 2, 3, 4=high\n",
    "   4. Number of children ever born   (numerical) - INT\n",
    "   5. Wife's religion                (binary)           0=Non-Islam, 1=Islam\n",
    "   6. Wife's now working?            (binary)           0=Yes, 1=No\n",
    "   7. Husband's occupation           (categorical)      1, 2, 3, 4\n",
    "      -What the categories were mapped to is unknown\n",
    "   8. Standard-of-living index       (categorical)      1=low, 2, 3, 4=high\n",
    "   9. Media exposure                 (binary)           0=Good, 1=Not good\n",
    "   10. Contraceptive method used     (class attribute)  1=No-use\n",
    "                                                        2=Long-term\n",
    "                                                        3=Short-term"
   ],
   "metadata": {
    "collapsed": false
   }
  },
  {
   "cell_type": "markdown",
   "source": [
    "<h3>Cross Product Features</h3>\n",
    "[1 points] Identify groups of features in your data that should be combined into cross-product features. Provide justification for why these features should be crossed (or why some features should not be crossed)."
   ],
   "metadata": {
    "collapsed": false
   }
  },
  {
   "cell_type": "markdown",
   "source": [
    "Wife working and wife education are related features that could be combined"
   ],
   "metadata": {
    "collapsed": false
   }
  },
  {
   "cell_type": "markdown",
   "source": [],
   "metadata": {
    "collapsed": false
   }
  },
  {
   "cell_type": "markdown",
   "source": [
    "<h3>Metrics for Algorithm Performance</h3>\n",
    "[1 points] Choose and explain what metric(s) you will use to evaluate your algorithm’s performance. You should give a detailed argument for why this (these) metric(s) are appropriate on your data. That is, why is the metric appropriate for the task (e.g., in terms of the business case for the task). Please note: rarely is accuracy the best evaluation metric to use. Think deeply about an appropriate measure of performance.\n"
   ],
   "metadata": {
    "collapsed": false
   }
  },
  {
   "cell_type": "markdown",
   "source": [
    "The most important feature prediction is no contraceptive use vs contraceptive use. Taking contraceptive use as true, a false positive has much higher risk than a false negative. Because of this, we will choose specificity score as our metric. We want to cover all true negatives."
   ],
   "metadata": {
    "collapsed": false
   }
  },
  {
   "cell_type": "markdown",
   "source": [
    "<h3>Dividing into Training and Testing</h3>\n",
    "[1 points] Choose the method you will use for dividing your data into training and testing (i.e., are you using Stratified 10-fold cross validation? Shuffle splits? Why?). Explain why your chosen method is appropriate or use more than one method as appropriate. Argue why your cross validation method is a realistic mirroring of how an algorithm would be used in practice."
   ],
   "metadata": {
    "collapsed": false
   }
  },
  {
   "cell_type": "markdown",
   "source": [],
   "metadata": {
    "collapsed": false
   }
  }
 ],
 "metadata": {
  "kernelspec": {
   "display_name": "Python 3 (ipykernel)",
   "language": "python",
   "name": "python3"
  },
  "language_info": {
   "codemirror_mode": {
    "name": "ipython",
    "version": 3
   },
   "file_extension": ".py",
   "mimetype": "text/x-python",
   "name": "python",
   "nbconvert_exporter": "python",
   "pygments_lexer": "ipython3",
   "version": "3.9.13"
  }
 },
 "nbformat": 4,
 "nbformat_minor": 5
}
